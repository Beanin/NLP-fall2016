{
 "cells": [
  {
   "cell_type": "code",
   "execution_count": 32,
   "metadata": {
    "collapsed": false
   },
   "outputs": [],
   "source": [
    "import numpy\n",
    "import numpy as np\n",
    "import scipy\n",
    "\n",
    "from pandas import DataFrame\n",
    "\n",
    "from sklearn.feature_extraction.text import CountVectorizer\n",
    "from sklearn.linear_model import LogisticRegression\n",
    "from sklearn.cross_validation import cross_val_score\n",
    "from sklearn.naive_bayes import MultinomialNB\n",
    "from sklearn.feature_extraction.text import TfidfVectorizer\n",
    "from sklearn.decomposition import PCA\n",
    "from sklearn.grid_search import GridSearchCV\n",
    "from sklearn.pipeline import Pipeline\n",
    "from sklearn.decomposition import TruncatedSVD\n",
    "import matplotlib.pyplot as plt\n"
   ]
  },
  {
   "cell_type": "code",
   "execution_count": 35,
   "metadata": {
    "collapsed": false
   },
   "outputs": [],
   "source": [
    "%matplotlib inline"
   ]
  },
  {
   "cell_type": "code",
   "execution_count": null,
   "metadata": {
    "collapsed": true
   },
   "outputs": [],
   "source": []
  },
  {
   "cell_type": "markdown",
   "metadata": {},
   "source": [
    "<h2>1) Скачаем датасет</h2>"
   ]
  },
  {
   "cell_type": "code",
   "execution_count": 23,
   "metadata": {
    "collapsed": false
   },
   "outputs": [
    {
     "name": "stdout",
     "output_type": "stream",
     "text": [
      "--2016-12-18 17:24:04--  http://www.dt.fee.unicamp.br/~tiago/smsspamcollection/smsspamcollection.zip\n",
      "Resolving www.dt.fee.unicamp.br (www.dt.fee.unicamp.br)... 143.106.12.20\n",
      "Connecting to www.dt.fee.unicamp.br (www.dt.fee.unicamp.br)|143.106.12.20|:80... connected.\n",
      "HTTP request sent, awaiting response... 200 OK\n",
      "Length: 210521 (206K) [application/zip]\n",
      "Saving to: ‘smsspamcollection.zip.3’\n",
      "\n",
      "smsspamcollection.z 100%[===================>] 205.59K  74.8KB/s    in 2.7s    \n",
      "\n",
      "2016-12-18 17:24:08 (74.8 KB/s) - ‘smsspamcollection.zip.3’ saved [210521/210521]\n",
      "\n",
      "Archive:  smsspamcollection.zip\n",
      "replace readme? [y]es, [n]o, [A]ll, [N]one, [r]ename: ^C\n"
     ]
    }
   ],
   "source": [
    "! wget http://www.dt.fee.unicamp.br/~tiago/smsspamcollection/smsspamcollection.zip\n",
    "! unzip smsspamcollection.zip\n"
   ]
  },
  {
   "cell_type": "markdown",
   "metadata": {},
   "source": [
    "<h2>2,3) Считаем данные и подготовим списки признаков</h2>"
   ]
  },
  {
   "cell_type": "code",
   "execution_count": 22,
   "metadata": {
    "collapsed": false
   },
   "outputs": [],
   "source": [
    "src = open('SMSSpamCollection.txt')\n",
    "items = [line.strip('\\n').split('\\t')[::-1] for line in src.readlines()]\n",
    "texts = [it[0] for it in items]\n",
    "labels = [it[1] for it in items]\n",
    "for i, label in enumerate(labels):\n",
    "    labels[i] = 1 if label == 'spam' else 0"
   ]
  },
  {
   "cell_type": "markdown",
   "metadata": {},
   "source": [
    "<h2>4) получим признаки bag of words</h2>"
   ]
  },
  {
   "cell_type": "code",
   "execution_count": 13,
   "metadata": {
    "collapsed": false
   },
   "outputs": [],
   "source": [
    "vectorizer = CountVectorizer()\n",
    "features = vectorizer.fit_transform(texts)"
   ]
  },
  {
   "cell_type": "markdown",
   "metadata": {},
   "source": [
    "<h2>5) Подготовим score_function</h2>"
   ]
  },
  {
   "cell_type": "code",
   "execution_count": 11,
   "metadata": {
    "collapsed": false
   },
   "outputs": [],
   "source": [
    "def score_func(est, X, y):\n",
    "    cv = cross_val_score(est, X, y, cv=10, scoring='f1')\n",
    "    print(cv)\n",
    "    return cv.mean()"
   ]
  },
  {
   "cell_type": "markdown",
   "metadata": {
    "collapsed": false
   },
   "source": [
    "<h2>проверим на LogisticRegression</h2>"
   ]
  },
  {
   "cell_type": "code",
   "execution_count": 14,
   "metadata": {
    "collapsed": false
   },
   "outputs": [
    {
     "name": "stdout",
     "output_type": "stream",
     "text": [
      "[ 0.96598639  0.89855072  0.91549296  0.95833333  0.93706294  0.91304348\n",
      "  0.94444444  0.92753623  0.92198582  0.95104895]\n",
      "0.933348526858\n"
     ]
    }
   ],
   "source": [
    "print(score_func(LogisticRegression(), features, labels))"
   ]
  },
  {
   "cell_type": "markdown",
   "metadata": {},
   "source": [
    "<h2>Ответ в п.5 0.933348526858</h2>"
   ]
  },
  {
   "cell_type": "markdown",
   "metadata": {},
   "source": [
    "<h2>6) Отклассифицируем данные сообщения классификатором, обученным на всей выборке</h2>"
   ]
  },
  {
   "cell_type": "code",
   "execution_count": 16,
   "metadata": {
    "collapsed": true
   },
   "outputs": [],
   "source": [
    "x = [\"FreeMsg: Txt: CALL to No:86888 & claim your reward of 3 hours talk time to use from your phone now! Subscribe6GB\",\n",
    "     \"FreeMsg: Txt: claim your reward of 3 hours talk time\",\n",
    "     \"Have you visited the last lecture on physics?\", \n",
    "     \"Have you visited the last lecture on physics? Just buy this book and you will have all materials! Only 99$\", \n",
    "     \"Only 99$\"]"
   ]
  },
  {
   "cell_type": "code",
   "execution_count": 18,
   "metadata": {
    "collapsed": false
   },
   "outputs": [
    {
     "name": "stdout",
     "output_type": "stream",
     "text": [
      "[1 1 0 0 0]\n"
     ]
    }
   ],
   "source": [
    "new_labels = LogisticRegression().fit(features, labels).predict(vectorizer.transform(x))\n",
    "print(new_labels)"
   ]
  },
  {
   "cell_type": "markdown",
   "metadata": {},
   "source": [
    "<h2>Ответ на п.6: \"1 1 0 0 0\"</h2>"
   ]
  },
  {
   "cell_type": "markdown",
   "metadata": {},
   "source": [
    "<h2>7) Попробуем разные ngram_range</h2>"
   ]
  },
  {
   "cell_type": "code",
   "execution_count": 19,
   "metadata": {
    "collapsed": true
   },
   "outputs": [],
   "source": [
    "ngram_ranges = [ (2, 2), (3, 3), (1, 3)]"
   ]
  },
  {
   "cell_type": "code",
   "execution_count": 21,
   "metadata": {
    "collapsed": false
   },
   "outputs": [
    {
     "name": "stdout",
     "output_type": "stream",
     "text": [
      "[ 0.828125    0.8125      0.8372093   0.8372093   0.85496183  0.828125\n",
      "  0.7704918   0.78688525  0.816       0.85271318]\n",
      "0.822422066419\n",
      "[ 0.75        0.71794872  0.71794872  0.75        0.72881356  0.71794872\n",
      "  0.69565217  0.71304348  0.71304348  0.74576271]\n",
      "0.725016155547\n",
      "[ 0.95104895  0.88888889  0.92857143  0.92857143  0.93617021  0.92086331\n",
      "  0.92086331  0.91176471  0.91428571  0.95035461]\n",
      "0.925138255865\n"
     ]
    }
   ],
   "source": [
    "for ngram_range in ngram_ranges:\n",
    "    print(score_func(LogisticRegression(),\n",
    "                     CountVectorizer(ngram_range=ngram_range).fit_transform(texts),\n",
    "                     labels\n",
    "                     ))"
   ]
  },
  {
   "cell_type": "markdown",
   "metadata": {},
   "source": [
    "<h2>Ответ в п.7: \"0.82 0.73 0.93\"</h2>"
   ]
  },
  {
   "cell_type": "markdown",
   "metadata": {},
   "source": [
    "<h2>8) То же самое для MultinomialNB()</h2>"
   ]
  },
  {
   "cell_type": "code",
   "execution_count": 25,
   "metadata": {
    "collapsed": false
   },
   "outputs": [
    {
     "name": "stdout",
     "output_type": "stream",
     "text": [
      "[ 0.68202765  0.64628821  0.63559322  0.62978723  0.66055046  0.65437788\n",
      "  0.63478261  0.61206897  0.62931034  0.66976744]\n",
      "0.645455401356\n",
      "[ 0.39361702  0.37659033  0.390625    0.3649635   0.39130435  0.37922078\n",
      "  0.37279597  0.36868687  0.37279597  0.37563452]\n",
      "0.378623430876\n",
      "[ 0.93081761  0.9068323   0.8969697   0.88622754  0.85714286  0.87116564\n",
      "  0.87116564  0.88343558  0.86390533  0.91139241]\n",
      "0.887905460889\n"
     ]
    }
   ],
   "source": [
    "for ngram_range in ngram_ranges:\n",
    "    print(score_func(MultinomialNB(),\n",
    "                     CountVectorizer(ngram_range=ngram_range).fit_transform(texts),\n",
    "                     labels\n",
    "                     ))"
   ]
  },
  {
   "cell_type": "markdown",
   "metadata": {},
   "source": [
    "<h2>Ответ в п.8: \"0.65 0.39 0.89\"</h2>"
   ]
  },
  {
   "cell_type": "markdown",
   "metadata": {},
   "source": [
    "<h2> 9) Попробуем TfidfVectorizer + LogisticRegression</h2>"
   ]
  },
  {
   "cell_type": "code",
   "execution_count": 29,
   "metadata": {
    "collapsed": false
   },
   "outputs": [
    {
     "name": "stdout",
     "output_type": "stream",
     "text": [
      "[ 0.33333333  0.31460674  0.40425532  0.35164835  0.31460674  0.27586207\n",
      "  0.31460674  0.39130435  0.33707865  0.40860215]\n",
      "0.344590444786\n",
      "[ 0.17073171  0.17073171  0.25581395  0.23529412  0.14814815  0.07692308\n",
      "  0.14814815  0.15        0.15        0.15      ]\n",
      "0.165579085899\n",
      "[ 0.69565217  0.66071429  0.62385321  0.66071429  0.64864865  0.70689655\n",
      "  0.52941176  0.61682243  0.61682243  0.72413793]\n",
      "0.648367371228\n"
     ]
    }
   ],
   "source": [
    "for ngram_range in ngram_ranges:\n",
    "    print(score_func(LogisticRegression(),\n",
    "                     TfidfVectorizer(ngram_range=ngram_range).fit_transform(texts),\n",
    "                     labels\n",
    "                     ))"
   ]
  },
  {
   "cell_type": "markdown",
   "metadata": {},
   "source": [
    "<h2> :( Из-за маленькой тренировочной выборки, многие стоп-слова получают большой вес</h2>"
   ]
  },
  {
   "cell_type": "markdown",
   "metadata": {},
   "source": [
    "<h2> 10) Попробуем улучшить score </h2>"
   ]
  },
  {
   "cell_type": "markdown",
   "metadata": {},
   "source": [
    "<h3> Для начала попробуем понизить размерность <h3>"
   ]
  },
  {
   "cell_type": "code",
   "execution_count": 62,
   "metadata": {
    "collapsed": false
   },
   "outputs": [
    {
     "data": {
      "text/plain": [
       "<matplotlib.text.Text at 0x7fe57b42cd68>"
      ]
     },
     "execution_count": 62,
     "metadata": {},
     "output_type": "execute_result"
    },
    {
     "data": {
      "image/png": "[encoded data removed]",
      "text/plain": [
       "<matplotlib.figure.Figure at 0x7fe57b6ab9e8>"
      ]
     },
     "metadata": {},
     "output_type": "display_data"
    }
   ],
   "source": [
    "svd = TruncatedSVD(1000)\n",
    "svd.fit(features)\n",
    "\n",
    "plt.figure(1, figsize=(4, 3))\n",
    "plt.clf()\n",
    "plt.axes([.2, .2, .7, .7])\n",
    "plt.plot(svd.explained_variance_, linewidth=2)\n",
    "plt.axis('tight')\n",
    "plt.xlabel('n_components')\n",
    "plt.ylabel('explained_variance_')"
   ]
  },
  {
   "cell_type": "code",
   "execution_count": 63,
   "metadata": {
    "collapsed": true
   },
   "outputs": [],
   "source": [
    "N_COMP = 500"
   ]
  },
  {
   "cell_type": "code",
   "execution_count": 74,
   "metadata": {
    "collapsed": true
   },
   "outputs": [],
   "source": [
    "svd = TruncatedSVD(N_COMP)\n",
    "logistic = LogisticRegression(n_jobs=-1, class_weight='balanced')"
   ]
  },
  {
   "cell_type": "code",
   "execution_count": null,
   "metadata": {
    "collapsed": false
   },
   "outputs": [],
   "source": [
    "pipe = Pipeline(steps=[('svd', svd), ('logistic', logistic)])\n",
    "Cs = np.logspace(-2, 2, 20)\n",
    "estimator = GridSearchCV(pipe, dict(logistic__C=Cs), n_jobs=-1, scoring=score_func)\n"
   ]
  },
  {
   "cell_type": "code",
   "execution_count": null,
   "metadata": {
    "collapsed": false
   },
   "outputs": [],
   "source": [
    "estimator.fit(features, labels)"
   ]
  },
  {
   "cell_type": "code",
   "execution_count": 87,
   "metadata": {
    "collapsed": true
   },
   "outputs": [],
   "source": [
    "b_est = estimator.best_estimator_\n",
    "b_params = estimator.best_params_\n",
    "b_score = estimator.best_score_"
   ]
  },
  {
   "cell_type": "code",
   "execution_count": 91,
   "metadata": {
    "collapsed": false
   },
   "outputs": [
    {
     "name": "stdout",
     "output_type": "stream",
     "text": [
      "{'logistic__C': array([  1.00000000e-02,   1.62377674e-02,   2.63665090e-02,\n",
      "         4.28133240e-02,   6.95192796e-02,   1.12883789e-01,\n",
      "         1.83298071e-01,   2.97635144e-01,   4.83293024e-01,\n",
      "         7.84759970e-01,   1.27427499e+00,   2.06913808e+00,\n",
      "         3.35981829e+00,   5.45559478e+00,   8.85866790e+00,\n",
      "         1.43844989e+01,   2.33572147e+01,   3.79269019e+01,\n",
      "         6.15848211e+01,   1.00000000e+02])}\n"
     ]
    }
   ],
   "source": [
    "print(estimator.param_grid)"
   ]
  },
  {
   "cell_type": "code",
   "execution_count": 145,
   "metadata": {
    "collapsed": false
   },
   "outputs": [
    {
     "name": "stdout",
     "output_type": "stream",
     "text": [
      "[ 0.92207792  0.92517007  0.90196078  0.97986577  0.90540541  0.93617021\n",
      "  0.94039735  0.94520548  0.92810458  0.93877551]\n"
     ]
    },
    {
     "data": {
      "text/plain": [
       "0.93231330802152146"
      ]
     },
     "execution_count": 145,
     "metadata": {},
     "output_type": "execute_result"
    }
   ],
   "source": [
    "score_func(b_est, features, labels)"
   ]
  },
  {
   "cell_type": "markdown",
   "metadata": {},
   "source": [
    "<h3> А теперь сравним с тем же, но без понижения размерности </h3>"
   ]
  },
  {
   "cell_type": "code",
   "execution_count": 92,
   "metadata": {
    "collapsed": false,
    "scrolled": true
   },
   "outputs": [
    {
     "name": "stdout",
     "output_type": "stream",
     "text": [
      "[ 0.83636364  0.92592593  0.79310345  0.83636364  0.89795918  0.86792453\n",
      "  0.96153846  0.83636364  0.8         0.83636364][ 0.90566038  0.87272727  0.78571429  0.85185185  0.88461538  0.81632653\n",
      "  0.84615385  0.88461538  0.84        0.86792453]\n",
      "\n",
      "[ 0.85185185  0.88        0.86792453  0.84        0.88461538  0.86792453\n",
      "  0.85185185  0.89285714  0.98039216  0.83333333]\n",
      "[ 0.94117647  0.92307692  0.81481481  0.86792453  0.90196078  0.83333333\n",
      "  0.84615385  0.88461538  0.84        0.88461538]\n",
      "[ 0.86792453  0.89795918  0.86792453  0.85714286  0.8627451   0.88461538\n",
      "  0.88        0.90566038  0.98039216  0.88888889]\n",
      "[ 0.86792453  0.92592593  0.83636364  0.8627451   0.89795918  0.92\n",
      "  0.98039216  0.83636364  0.81632653  0.83636364]\n",
      "[ 0.96        0.94117647  0.83018868  0.86792453  0.90196078  0.85106383\n",
      "  0.84615385  0.88461538  0.84        0.90196078]\n",
      "[ 0.90196078  0.875       0.90196078  0.875       0.84        0.90196078\n",
      "  0.88        0.90566038  0.98039216  0.86363636]\n",
      "[ 0.85185185  0.96153846  0.85185185  0.88        0.89795918  0.91666667\n",
      "  0.98039216  0.85185185  0.86956522  0.85185185]\n",
      "[ 0.97959184  0.94117647  0.84615385  0.90196078  0.88        0.85106383\n",
      "  0.8627451   0.88461538  0.82352941  0.90196078]\n",
      "[ 0.90196078  0.875       0.93877551  0.86956522  0.83333333  0.90196078\n",
      "  0.88        0.90566038  0.98039216  0.88372093]\n",
      "[ 0.86792453  0.96153846  0.88461538  0.88        0.91666667  0.91666667\n",
      "  0.98039216  0.82352941  0.88888889  0.84615385]\n",
      "[ 0.88461538  1.          0.90196078  0.88        0.89361702  0.91666667\n",
      "  0.96        0.84        0.88888889  0.8627451 ]\n",
      "[ 0.93877551  0.875       0.93877551  0.86956522  0.85106383  0.90196078\n",
      "  0.88        0.88461538  0.98039216  0.90909091]\n",
      "[ 0.86792453  0.96153846  0.90196078  0.88        0.89361702  0.91666667\n",
      "  0.96        0.84        0.88888889  0.8627451 ]\n",
      "[ 0.97959184  0.96        0.84615385  0.90196078  0.88        0.85106383\n",
      "  0.85714286  0.90196078  0.85714286  0.92      ][ 0.93877551  0.875       0.95833333  0.86956522  0.875       0.90196078\n",
      "  0.88        0.88461538  0.98039216  0.90909091]\n",
      "\n",
      "[ 0.88461538  1.          0.92307692  0.89795918  0.89361702  0.91666667\n",
      "  0.96        0.81632653  0.88888889  0.85714286][ 0.97959184  0.96        0.84615385  0.90196078  0.89795918  0.86956522\n",
      "  0.85714286  0.92        0.875       0.92      ]\n",
      "\n",
      "[ 0.95833333  0.96        0.90196078  0.90196078  0.91666667  0.88888889\n",
      "  0.85714286  0.92        0.89361702  0.93877551]\n",
      "[ 0.88461538  1.          0.90196078  0.88        0.89361702  0.91666667\n",
      "  0.96        0.84        0.88888889  0.85714286]\n",
      "[ 0.93877551  0.875       0.95833333  0.89361702  0.875       0.90196078\n",
      "  0.88        0.88461538  0.98039216  0.90909091]\n",
      "[ 0.95833333  0.96        0.90196078  0.93877551  0.91666667  0.88888889\n",
      "  0.875       0.92        0.91304348  0.93877551]\n",
      "[ 0.91666667  0.875       0.95833333  0.89361702  0.875       0.88\n",
      "  0.89795918  0.90196078  1.          0.93333333]\n",
      "[ 0.93877551  1.          0.94117647  0.89795918  0.89361702  0.91666667\n",
      "  0.96        0.81632653  0.88888889  0.89361702]\n",
      "[ 0.93877551  0.875       0.95833333  0.89361702  0.875       0.88        0.88\n",
      "  0.88461538  0.98039216  0.90909091]\n",
      "[ 0.95833333  0.96        0.90196078  0.95833333  0.91666667  0.88888889\n",
      "  0.91304348  0.92        0.91304348  0.93877551]\n",
      "[ 0.95833333  0.96        0.90196078  0.95833333  0.93877551  0.88888889\n",
      "  0.91304348  0.93877551  0.91304348  0.93877551]\n",
      "[ 0.93877551  1.          0.94117647  0.89795918  0.89361702  0.91666667\n",
      "  0.96        0.83333333  0.88888889  0.91304348]\n",
      "[ 0.89361702  0.875       0.95833333  0.86956522  0.875       0.85714286\n",
      "  0.89361702  0.90196078  1.          0.93333333]\n",
      "[ 0.91666667  0.875       0.95833333  0.86956522  0.875       0.85714286\n",
      "  0.91666667  0.90196078  1.          0.93333333]\n",
      "[ 0.95833333  0.97959184  0.90196078  0.95833333  0.93877551  0.88888889\n",
      "  0.91304348  0.93877551  0.91304348  0.93877551]\n",
      "[ 0.93877551  0.97959184  0.96        0.93617021  0.93617021  0.91666667\n",
      "  0.96        0.81632653  0.88888889  0.91304348]\n",
      "[ 0.93877551  1.          0.94117647  0.91666667  0.89361702  0.91666667\n",
      "  0.96        0.83333333  0.88888889  0.91304348]\n",
      "[ 0.89361702  0.86956522  0.95833333  0.84444444  0.875       0.85714286\n",
      "  0.89361702  0.90196078  1.          0.93333333][ 0.93877551  0.97959184  0.94117647  0.93617021  0.93617021  0.91666667\n",
      "  0.96        0.81632653  0.88888889  0.91304348]\n",
      "\n",
      "[ 0.93877551  0.97959184  0.96        0.93617021  0.93617021  0.93617021\n",
      "  0.96        0.81632653  0.88888889  0.91304348]\n",
      "[ 0.95833333  0.97959184  0.90196078  0.95833333  0.93877551  0.88888889\n",
      "  0.91304348  0.93877551  0.91304348  0.93877551]\n",
      "[ 0.95833333  0.97959184  0.90196078  0.95833333  0.93877551  0.88888889\n",
      "  0.91304348  0.93877551  0.91304348  0.93877551]\n",
      "[ 0.95833333  0.97959184  0.92        0.93617021  0.93877551  0.88888889\n",
      "  0.91304348  0.93877551  0.91304348  0.93877551]\n",
      "[ 0.89361702  0.86956522  0.95833333  0.86363636  0.875       0.85714286\n",
      "  0.89361702  0.90196078  0.97959184  0.93333333]\n",
      "[ 0.89361702  0.86956522  0.95833333  0.86363636  0.875       0.85714286\n",
      "  0.89361702  0.90196078  0.97959184  0.93333333]\n",
      "[ 0.95833333  0.97959184  0.90196078  0.93617021  0.93877551  0.88888889\n",
      "  0.91304348  0.93877551  0.91304348  0.93877551]\n",
      "[ 0.89361702  0.86956522  0.95833333  0.86363636  0.875       0.85714286\n",
      "  0.91304348  0.90196078  0.97959184  0.93333333]\n",
      "[ 0.93877551  0.97959184  0.96        0.93617021  0.93617021  0.93617021\n",
      "  0.96        0.81632653  0.88888889  0.91304348]\n",
      "[ 0.93877551  0.97959184  0.96        0.93617021  0.93617021  0.93617021\n",
      "  0.93877551  0.81632653  0.88888889  0.91304348]\n",
      "[ 0.95833333  0.97959184  0.92        0.93617021  0.93877551  0.88888889\n",
      "  0.91304348  0.93877551  0.91304348  0.93877551]\n",
      "[ 0.89361702  0.86956522  0.95833333  0.86363636  0.875       0.85714286\n",
      "  0.91304348  0.90196078  0.97959184  0.93333333][ 0.93877551  0.97959184  0.96        0.93617021  0.91304348  0.93617021\n",
      "  0.93877551  0.81632653  0.88888889  0.91304348]\n",
      "\n",
      "[ 0.93877551  0.97959184  0.96        0.93617021  0.93617021  0.93617021\n",
      "  0.93877551  0.81632653  0.88888889  0.91304348]\n",
      "[ 0.89361702  0.84444444  0.95833333  0.86363636  0.875       0.85714286\n",
      "  0.91304348  0.88        0.97959184  0.93333333]\n",
      "[ 0.95833333  0.97959184  0.92        0.93617021  0.93877551  0.88888889\n",
      "  0.91304348  0.93877551  0.91304348  0.93877551]\n",
      "[ 0.95833333  0.97959184  0.92        0.93617021  0.93877551  0.88888889\n",
      "  0.91304348  0.93877551  0.91304348  0.93877551]\n",
      "[ 0.93877551  0.97959184  0.96        0.91304348  0.91304348  0.93617021\n",
      "  0.93877551  0.81632653  0.88888889  0.91304348]\n",
      "[ 0.95833333  0.97959184  0.92        0.93617021  0.93877551  0.88888889\n",
      "  0.91304348  0.93877551  0.91304348  0.93877551]\n",
      "[ 0.91304348  0.84444444  0.95833333  0.86363636  0.875       0.85714286\n",
      "  0.91304348  0.88        0.97959184  0.93333333]\n",
      "[ 0.95833333  0.97959184  0.92        0.93617021  0.93877551  0.88888889\n",
      "  0.91304348  0.93877551  0.91304348  0.93877551]\n",
      "[ 0.93877551  0.97959184  0.96        0.91304348  0.91304348  0.93617021\n",
      "  0.93877551  0.81632653  0.88888889  0.91304348]\n",
      "[ 0.91304348  0.84444444  0.95833333  0.86363636  0.875       0.85714286\n",
      "  0.91304348  0.88        0.97959184  0.93333333]\n",
      "[ 0.91304348  0.84444444  0.95833333  0.88888889  0.875       0.85714286\n",
      "  0.91304348  0.88        0.97959184  0.91304348]\n"
     ]
    },
    {
     "data": {
      "text/plain": [
       "GridSearchCV(cv=None, error_score='raise',\n",
       "       estimator=LogisticRegression(C=1.0, class_weight='balanced', dual=False,\n",
       "          fit_intercept=True, intercept_scaling=1, max_iter=100,\n",
       "          multi_class='ovr', n_jobs=-1, penalty='l2', random_state=None,\n",
       "          solver='liblinear', tol=0.0001, verbose=0, warm_start=False),\n",
       "       fit_params={}, iid=True, n_jobs=-1,\n",
       "       param_grid={'C': array([  1.00000e-02,   1.62378e-02,   2.63665e-02,   4.28133e-02,\n",
       "         6.95193e-02,   1.12884e-01,   1.83298e-01,   2.97635e-01,\n",
       "         4.83293e-01,   7.84760e-01,   1.27427e+00,   2.06914e+00,\n",
       "         3.35982e+00,   5.45559e+00,   8.85867e+00,   1.43845e+01,\n",
       "         2.33572e+01,   3.79269e+01,   6.15848e+01,   1.00000e+02])},\n",
       "       pre_dispatch='2*n_jobs', refit=True,\n",
       "       scoring=<function score_func at 0x7fe57c3c0950>, verbose=0)"
      ]
     },
     "execution_count": 92,
     "metadata": {},
     "output_type": "execute_result"
    }
   ],
   "source": [
    "logistic = LogisticRegression(n_jobs=-1, class_weight='balanced')\n",
    "estimator_2 = GridSearchCV(logistic, dict(C=Cs), n_jobs=-1, scoring=score_func)\n",
    "estimator_2.fit(features, labels)"
   ]
  },
  {
   "cell_type": "code",
   "execution_count": 95,
   "metadata": {
    "collapsed": false
   },
   "outputs": [
    {
     "name": "stdout",
     "output_type": "stream",
     "text": [
      "{'C': 8.8586679041008232} 0.9211919622426195\n"
     ]
    }
   ],
   "source": [
    "b_est2 = estimator_2.best_estimator_\n",
    "b_params2 = estimator_2.best_params_\n",
    "b_score2 = estimator_2.best_score_\n",
    "print(b_params2, b_score2)"
   ]
  },
  {
   "cell_type": "code",
   "execution_count": 111,
   "metadata": {
    "collapsed": false
   },
   "outputs": [
    {
     "data": {
      "text/plain": [
       "[<matplotlib.lines.Line2D at 0x7fe57a3eb438>]"
      ]
     },
     "execution_count": 111,
     "metadata": {},
     "output_type": "execute_result"
    },
    {
     "data": {
      "image/png": "[encoded data removed]",
      "text/plain": [
       "<matplotlib.figure.Figure at 0x7fe57a93d518>"
      ]
     },
     "metadata": {},
     "output_type": "display_data"
    }
   ],
   "source": [
    "plt.plot(Cs, [x[1] for x in estimator_2.grid_scores_])"
   ]
  },
  {
   "cell_type": "code",
   "execution_count": 120,
   "metadata": {
    "collapsed": true
   },
   "outputs": [
    {
     "name": "stdout",
     "output_type": "stream",
     "text": [
      "[ 0.95833333  0.97959184  0.90196078  0.93617021  0.93877551  0.88888889\n",
      "  0.91304348  0.93877551  0.91304348  0.93877551][ 0.89361702  0.86956522  0.95833333  0.86363636  0.875       0.85714286\n",
      "  0.89361702  0.90196078  0.97959184  0.93333333]\n",
      "\n",
      "[ 0.93877551  0.97959184  0.96        0.93617021  0.93617021  0.93617021\n",
      "  0.96        0.81632653  0.88888889  0.91304348][ 0.89361702  0.86956522  0.95833333  0.86363636  0.875       0.85714286\n",
      "  0.89361702  0.90196078  0.97959184  0.93333333]\n",
      "\n",
      "[ 0.95833333  0.97959184  0.90196078  0.93617021  0.93877551  0.88888889\n",
      "  0.91304348  0.93877551  0.91304348  0.93877551]\n",
      "[ 0.89361702  0.86956522  0.95833333  0.86363636  0.875       0.85714286\n",
      "  0.89361702  0.90196078  0.97959184  0.93333333]\n",
      "[ 0.93877551  0.97959184  0.96        0.93617021  0.93617021  0.93617021\n",
      "  0.96        0.81632653  0.88888889  0.91304348]\n",
      "[ 0.93877551  0.97959184  0.96        0.93617021  0.93617021  0.93617021\n",
      "  0.96        0.81632653  0.88888889  0.91304348][ 0.93877551  0.97959184  0.96        0.93617021  0.93617021  0.93617021\n",
      "  0.96        0.81632653  0.88888889  0.91304348][ 0.93877551  0.97959184  0.96        0.93617021  0.93617021  0.93617021\n",
      "  0.96        0.81632653  0.88888889  0.91304348]\n",
      "\n",
      "\n",
      "[ 0.93877551  0.97959184  0.96        0.93617021  0.93617021  0.93617021\n",
      "  0.96        0.81632653  0.88888889  0.91304348]\n",
      "[ 0.95833333  0.97959184  0.90196078  0.93617021  0.93877551  0.88888889\n",
      "  0.91304348  0.93877551  0.91304348  0.93877551]\n",
      "[ 0.89361702  0.86956522  0.95833333  0.86363636  0.875       0.85714286\n",
      "  0.89361702  0.90196078  0.97959184  0.93333333][ 0.95833333  0.97959184  0.90196078  0.93617021  0.93877551  0.88888889\n",
      "  0.91304348  0.93877551  0.91304348  0.93877551]\n",
      "\n",
      "[ 0.89361702  0.86956522  0.95833333  0.86363636  0.875       0.85714286\n",
      "  0.89361702  0.90196078  0.97959184  0.93333333]\n",
      "[ 0.95833333  0.97959184  0.90196078  0.93617021  0.93877551  0.88888889\n",
      "  0.91304348  0.93877551  0.91304348  0.93877551]\n",
      "[ 0.95833333  0.97959184  0.90196078  0.93617021  0.93877551  0.88888889\n",
      "  0.91304348  0.93877551  0.91304348  0.93877551]\n",
      "[ 0.93877551  0.97959184  0.96        0.93617021  0.93617021  0.93617021\n",
      "  0.96        0.81632653  0.88888889  0.91304348]\n",
      "[ 0.89361702  0.86956522  0.95833333  0.86363636  0.875       0.85714286\n",
      "  0.89361702  0.90196078  0.97959184  0.93333333]\n",
      "[ 0.95833333  0.97959184  0.90196078  0.93617021  0.93877551  0.88888889\n",
      "  0.91304348  0.93877551  0.91304348  0.93877551]\n",
      "[ 0.93877551  0.97959184  0.96        0.93617021  0.93617021  0.93617021\n",
      "  0.96        0.81632653  0.88888889  0.91304348]\n",
      "[ 0.89361702  0.86956522  0.95833333  0.86363636  0.875       0.85714286\n",
      "  0.89361702  0.90196078  0.97959184  0.93333333]\n",
      "[ 0.89361702  0.86956522  0.95833333  0.86363636  0.875       0.85714286\n",
      "  0.89361702  0.90196078  0.97959184  0.93333333]\n",
      "[ 0.95833333  0.97959184  0.90196078  0.93617021  0.93877551  0.88888889\n",
      "  0.91304348  0.93877551  0.91304348  0.93877551]\n",
      "[ 0.89361702  0.86956522  0.95833333  0.86363636  0.875       0.85714286\n",
      "  0.89361702  0.90196078  0.97959184  0.93333333]\n",
      "[ 0.93877551  0.97959184  0.96        0.93617021  0.93617021  0.93617021\n",
      "  0.96        0.81632653  0.88888889  0.91304348]\n",
      "[ 0.95833333  0.97959184  0.90196078  0.93617021  0.93877551  0.88888889\n",
      "  0.91304348  0.93877551  0.91304348  0.93877551][ 0.93877551  0.97959184  0.96        0.93617021  0.93617021  0.93617021\n",
      "  0.96        0.81632653  0.88888889  0.91304348]\n",
      "\n",
      "[ 0.89361702  0.86956522  0.95833333  0.86363636  0.875       0.85714286\n",
      "  0.89361702  0.90196078  0.97959184  0.93333333]\n",
      "[ 0.95833333  0.97959184  0.90196078  0.93617021  0.93877551  0.88888889\n",
      "  0.91304348  0.93877551  0.91304348  0.93877551]\n",
      "[ 0.93877551  0.97959184  0.96        0.93617021  0.93617021  0.93617021\n",
      "  0.96        0.81632653  0.88888889  0.91304348]\n",
      "[ 0.89361702  0.86956522  0.95833333  0.86363636  0.875       0.85714286\n",
      "  0.89361702  0.90196078  0.97959184  0.93333333]\n",
      "[ 0.95833333  0.97959184  0.90196078  0.93617021  0.93877551  0.88888889\n",
      "  0.91304348  0.93877551  0.91304348  0.93877551]\n",
      "[ 0.93877551  0.97959184  0.96        0.93617021  0.93617021  0.93617021\n",
      "  0.96        0.81632653  0.88888889  0.91304348]\n",
      "[ 0.95833333  0.97959184  0.90196078  0.93617021  0.93877551  0.88888889\n",
      "  0.91304348  0.93877551  0.91304348  0.93877551]\n",
      "[ 0.93877551  0.97959184  0.96        0.93617021  0.93617021  0.93617021\n",
      "  0.96        0.81632653  0.88888889  0.91304348]\n",
      "[ 0.93877551  0.97959184  0.96        0.93617021  0.93617021  0.93617021\n",
      "  0.96        0.81632653  0.88888889  0.91304348]\n",
      "[ 0.89361702  0.86956522  0.95833333  0.86363636  0.875       0.85714286\n",
      "  0.89361702  0.90196078  0.97959184  0.93333333]\n",
      "[ 0.89361702  0.86956522  0.95833333  0.86363636  0.875       0.85714286\n",
      "  0.89361702  0.90196078  0.97959184  0.93333333]\n",
      "[ 0.95833333  0.97959184  0.90196078  0.93617021  0.93877551  0.88888889\n",
      "  0.91304348  0.93877551  0.91304348  0.93877551]\n",
      "[ 0.95833333  0.97959184  0.90196078  0.93617021  0.93877551  0.88888889\n",
      "  0.91304348  0.93877551  0.91304348  0.93877551]\n",
      "[ 0.93877551  0.97959184  0.96        0.93617021  0.93617021  0.93617021\n",
      "  0.96        0.81632653  0.88888889  0.91304348][ 0.95833333  0.97959184  0.90196078  0.93617021  0.93877551  0.88888889\n",
      "  0.91304348  0.93877551  0.91304348  0.93877551]\n",
      "\n",
      "[ 0.89361702  0.86956522  0.95833333  0.86363636  0.875       0.85714286\n",
      "  0.89361702  0.90196078  0.97959184  0.93333333]\n",
      "[ 0.89361702  0.86956522  0.95833333  0.86363636  0.875       0.85714286\n",
      "  0.89361702  0.90196078  0.97959184  0.93333333]\n",
      "[ 0.89361702  0.86956522  0.95833333  0.86363636  0.875       0.85714286\n",
      "  0.89361702  0.90196078  0.97959184  0.93333333]\n",
      "[ 0.95833333  0.97959184  0.90196078  0.93617021  0.93877551  0.88888889\n",
      "  0.91304348  0.93877551  0.91304348  0.93877551]\n",
      "[ 0.93877551  0.97959184  0.96        0.93617021  0.93617021  0.93617021\n",
      "  0.96        0.81632653  0.88888889  0.91304348]\n",
      "[ 0.95833333  0.97959184  0.90196078  0.93617021  0.93877551  0.88888889\n",
      "  0.91304348  0.93877551  0.91304348  0.93877551]\n",
      "[ 0.93877551  0.97959184  0.96        0.93617021  0.93617021  0.93617021\n",
      "  0.96        0.81632653  0.88888889  0.91304348]\n",
      "[ 0.89361702  0.86956522  0.95833333  0.86363636  0.875       0.85714286\n",
      "  0.89361702  0.90196078  0.97959184  0.93333333]\n",
      "[ 0.95833333  0.97959184  0.90196078  0.93617021  0.93877551  0.88888889\n",
      "  0.91304348  0.93877551  0.91304348  0.93877551]\n",
      "[ 0.93877551  0.97959184  0.96        0.93617021  0.93617021  0.93617021\n",
      "  0.96        0.81632653  0.88888889  0.91304348]\n",
      "[ 0.89361702  0.86956522  0.95833333  0.86363636  0.875       0.85714286\n",
      "  0.89361702  0.90196078  0.97959184  0.93333333]\n",
      "[ 0.93877551  0.97959184  0.96        0.93617021  0.93617021  0.93617021\n",
      "  0.96        0.81632653  0.88888889  0.91304348]\n",
      "[ 0.89361702  0.86956522  0.95833333  0.86363636  0.875       0.85714286\n",
      "  0.89361702  0.90196078  0.97959184  0.93333333]\n",
      "[ 0.95833333  0.97959184  0.90196078  0.93617021  0.93877551  0.88888889\n",
      "  0.91304348  0.93877551  0.91304348  0.93877551]\n",
      "[ 0.93877551  0.97959184  0.96        0.93617021  0.93617021  0.93617021\n",
      "  0.96        0.81632653  0.88888889  0.91304348]\n",
      "[ 0.95833333  0.97959184  0.90196078  0.93617021  0.93877551  0.88888889\n",
      "  0.91304348  0.93877551  0.91304348  0.93877551]\n",
      "[ 0.93877551  0.97959184  0.96        0.93617021  0.93617021  0.93617021\n",
      "  0.96        0.81632653  0.88888889  0.91304348]\n",
      "[ 0.89361702  0.86956522  0.95833333  0.86363636  0.875       0.85714286\n",
      "  0.89361702  0.90196078  0.97959184  0.93333333][ 0.95833333  0.97959184  0.90196078  0.93617021  0.93877551  0.88888889\n",
      "  0.91304348  0.93877551  0.91304348  0.93877551]\n",
      "\n",
      "[ 0.89361702  0.86956522  0.95833333  0.86363636  0.875       0.85714286\n",
      "  0.89361702  0.90196078  0.97959184  0.93333333]\n",
      "[ 0.93877551  0.97959184  0.96        0.93617021  0.93617021  0.93617021\n",
      "  0.96        0.81632653  0.88888889  0.91304348]\n",
      "[ 0.95833333  0.97959184  0.90196078  0.93617021  0.93877551  0.88888889\n",
      "  0.91304348  0.93877551  0.91304348  0.93877551]\n",
      "[ 0.89361702  0.86956522  0.95833333  0.86363636  0.875       0.85714286\n",
      "  0.89361702  0.90196078  0.97959184  0.93333333]\n",
      "[ 0.93877551  0.97959184  0.96        0.93617021  0.93617021  0.93617021\n",
      "  0.96        0.81632653  0.88888889  0.91304348]\n",
      "[ 0.95833333  0.97959184  0.90196078  0.93617021  0.93877551  0.88888889\n",
      "  0.91304348  0.93877551  0.91304348  0.93877551]\n",
      "[ 0.89361702  0.86956522  0.95833333  0.86363636  0.875       0.85714286\n",
      "  0.89361702  0.90196078  0.97959184  0.93333333]\n",
      "[ 0.93877551  0.97959184  0.96        0.93617021  0.93617021  0.93617021\n",
      "  0.96        0.81632653  0.88888889  0.91304348]\n",
      "[ 0.95833333  0.97959184  0.90196078  0.93617021  0.93877551  0.88888889\n",
      "  0.91304348  0.93877551  0.91304348  0.93877551]\n",
      "[ 0.93877551  0.97959184  0.96        0.93617021  0.93617021  0.93617021\n",
      "  0.96        0.81632653  0.88888889  0.91304348]\n",
      "[ 0.93877551  0.97959184  0.96        0.93617021  0.93617021  0.93617021\n",
      "  0.96        0.81632653  0.88888889  0.91304348]\n",
      "[ 0.95833333  0.97959184  0.90196078  0.93617021  0.93877551  0.88888889\n",
      "  0.91304348  0.93877551  0.91304348  0.93877551]\n",
      "[ 0.95833333  0.97959184  0.90196078  0.93617021  0.93877551  0.88888889\n",
      "  0.91304348  0.93877551  0.91304348  0.93877551]\n",
      "[ 0.89361702  0.86956522  0.95833333  0.86363636  0.875       0.85714286\n",
      "  0.89361702  0.90196078  0.97959184  0.93333333]\n",
      "[ 0.89361702  0.86956522  0.95833333  0.86363636  0.875       0.85714286\n",
      "  0.89361702  0.90196078  0.97959184  0.93333333]\n",
      "[ 0.89361702  0.86956522  0.95833333  0.86363636  0.875       0.85714286\n",
      "  0.89361702  0.90196078  0.97959184  0.93333333]\n",
      "[ 0.95833333  0.97959184  0.90196078  0.93617021  0.93877551  0.88888889\n",
      "  0.91304348  0.93877551  0.91304348  0.93877551]\n",
      "[ 0.93877551  0.97959184  0.96        0.93617021  0.93617021  0.93617021\n",
      "  0.96        0.81632653  0.88888889  0.91304348]\n",
      "[ 0.93877551  0.97959184  0.96        0.93617021  0.93617021  0.93617021\n",
      "  0.96        0.81632653  0.88888889  0.91304348]\n",
      "[ 0.89361702  0.86956522  0.95833333  0.86363636  0.875       0.85714286\n",
      "  0.89361702  0.90196078  0.97959184  0.93333333]\n",
      "[ 0.95833333  0.97959184  0.90196078  0.93617021  0.93877551  0.88888889\n",
      "  0.91304348  0.93877551  0.91304348  0.93877551]\n",
      "[ 0.89361702  0.86956522  0.95833333  0.86363636  0.875       0.85714286\n",
      "  0.91304348  0.90196078  0.97959184  0.93333333]\n",
      "[ 0.93877551  0.97959184  0.96        0.93617021  0.93617021  0.93617021\n",
      "  0.96        0.81632653  0.88888889  0.91304348]\n",
      "[ 0.95833333  0.97959184  0.90196078  0.93617021  0.93877551  0.88888889\n",
      "  0.91304348  0.93877551  0.91304348  0.93877551]\n",
      "[ 0.95833333  0.97959184  0.90196078  0.93617021  0.93877551  0.88888889\n",
      "  0.91304348  0.93877551  0.91304348  0.93877551][ 0.93877551  0.97959184  0.96        0.93617021  0.93617021  0.93617021\n",
      "  0.96        0.81632653  0.88888889  0.91304348]\n",
      "\n",
      "[ 0.89361702  0.86956522  0.95833333  0.86363636  0.875       0.85714286\n",
      "  0.91304348  0.90196078  0.97959184  0.93333333][ 0.95833333  0.97959184  0.90196078  0.93617021  0.93877551  0.88888889\n",
      "  0.91304348  0.93877551  0.91304348  0.93877551]\n",
      "\n",
      "[ 0.89361702  0.86956522  0.95833333  0.86363636  0.875       0.85714286\n",
      "  0.91304348  0.90196078  0.97959184  0.93333333]\n",
      "[ 0.93877551  0.97959184  0.96        0.93617021  0.93617021  0.93617021\n",
      "  0.96        0.81632653  0.88888889  0.91304348]\n",
      "[ 0.95833333  0.97959184  0.90196078  0.93617021  0.93877551  0.88888889\n",
      "  0.91304348  0.93877551  0.91304348  0.93877551]\n",
      "[ 0.93877551  0.97959184  0.96        0.93617021  0.93617021  0.93617021\n",
      "  0.96        0.81632653  0.88888889  0.91304348]\n",
      "[ 0.89361702  0.86956522  0.95833333  0.86363636  0.875       0.85714286\n",
      "  0.91304348  0.90196078  0.97959184  0.93333333]\n",
      "[ 0.89361702  0.86956522  0.95833333  0.86363636  0.875       0.85714286\n",
      "  0.91304348  0.90196078  0.97959184  0.93333333]\n",
      "[ 0.89361702  0.86956522  0.95833333  0.86363636  0.875       0.85714286\n",
      "  0.91304348  0.90196078  0.97959184  0.93333333]\n",
      "[ 0.95833333  0.97959184  0.90196078  0.93617021  0.93877551  0.88888889\n",
      "  0.91304348  0.93877551  0.91304348  0.93877551]\n",
      "[ 0.93877551  0.97959184  0.96        0.93617021  0.93617021  0.93617021\n",
      "  0.96        0.81632653  0.88888889  0.91304348]\n",
      "[ 0.95833333  0.97959184  0.90196078  0.93617021  0.93877551  0.88888889\n",
      "  0.91304348  0.93877551  0.91304348  0.93877551]\n",
      "[ 0.93877551  0.97959184  0.96        0.93617021  0.93617021  0.93617021\n",
      "  0.96        0.81632653  0.88888889  0.91304348]\n",
      "[ 0.89361702  0.86956522  0.95833333  0.86363636  0.875       0.85714286\n",
      "  0.91304348  0.90196078  0.97959184  0.93333333]\n",
      "[ 0.95833333  0.97959184  0.90196078  0.93617021  0.93877551  0.88888889\n",
      "  0.91304348  0.93877551  0.91304348  0.93877551]\n",
      "[ 0.93877551  0.97959184  0.96        0.93617021  0.93617021  0.93617021\n",
      "  0.96        0.81632653  0.88888889  0.91304348]\n",
      "[ 0.89361702  0.86956522  0.95833333  0.86363636  0.875       0.85714286\n",
      "  0.91304348  0.90196078  0.97959184  0.93333333]\n",
      "[ 0.95833333  0.97959184  0.90196078  0.93617021  0.93877551  0.88888889\n",
      "  0.91304348  0.93877551  0.91304348  0.93877551]\n",
      "[ 0.93877551  0.97959184  0.96        0.93617021  0.93617021  0.93617021\n",
      "  0.96        0.81632653  0.88888889  0.91304348]\n",
      "[ 0.93877551  0.97959184  0.96        0.93617021  0.93617021  0.93617021\n",
      "  0.96        0.81632653  0.88888889  0.91304348]\n",
      "[ 0.93877551  0.97959184  0.96        0.93617021  0.93617021  0.93617021\n",
      "  0.96        0.81632653  0.88888889  0.91304348]\n",
      "[ 0.95833333  0.97959184  0.90196078  0.93617021  0.93877551  0.88888889\n",
      "  0.91304348  0.93877551  0.91304348  0.93877551]\n",
      "[ 0.89361702  0.86956522  0.95833333  0.86363636  0.875       0.85714286\n",
      "  0.91304348  0.90196078  0.97959184  0.93333333]\n",
      "[ 0.95833333  0.97959184  0.90196078  0.93617021  0.93877551  0.88888889\n",
      "  0.91304348  0.93877551  0.91304348  0.93877551]\n",
      "[ 0.89361702  0.86956522  0.95833333  0.86363636  0.875       0.85714286\n",
      "  0.91304348  0.90196078  0.97959184  0.93333333]\n",
      "[ 0.89361702  0.86956522  0.95833333  0.86363636  0.875       0.85714286\n",
      "  0.91304348  0.90196078  0.97959184  0.93333333]\n",
      "[ 0.89361702  0.86956522  0.95833333  0.86363636  0.875       0.85714286\n",
      "  0.91304348  0.90196078  0.97959184  0.93333333]\n",
      "[ 0.95833333  0.97959184  0.90196078  0.93617021  0.93877551  0.88888889\n",
      "  0.91304348  0.93877551  0.91304348  0.93877551]\n",
      "[ 0.93877551  0.97959184  0.96        0.93617021  0.93617021  0.93617021\n",
      "  0.96        0.81632653  0.88888889  0.91304348]\n",
      "[ 0.93877551  0.97959184  0.96        0.93617021  0.93617021  0.93617021\n",
      "  0.96        0.81632653  0.88888889  0.91304348]\n",
      "[ 0.89361702  0.86956522  0.95833333  0.86363636  0.875       0.85714286\n",
      "  0.91304348  0.90196078  0.97959184  0.93333333]\n",
      "[ 0.95833333  0.97959184  0.90196078  0.93617021  0.93877551  0.88888889\n",
      "  0.91304348  0.93877551  0.91304348  0.93877551]\n",
      "[ 0.93877551  0.97959184  0.96        0.93617021  0.93617021  0.93617021\n",
      "  0.96        0.81632653  0.88888889  0.91304348]\n",
      "[ 0.89361702  0.86956522  0.95833333  0.86363636  0.875       0.85714286\n",
      "  0.91304348  0.90196078  0.97959184  0.93333333][ 0.93877551  0.97959184  0.96        0.93617021  0.93617021  0.93617021\n",
      "  0.96        0.81632653  0.88888889  0.91304348]\n",
      "\n",
      "[ 0.95833333  0.97959184  0.90196078  0.93617021  0.93877551  0.88888889\n",
      "  0.91304348  0.93877551  0.91304348  0.93877551]\n",
      "[ 0.93877551  0.97959184  0.96        0.93617021  0.93617021  0.93617021\n",
      "  0.96        0.81632653  0.88888889  0.91304348]\n",
      "[ 0.95833333  0.97959184  0.90196078  0.93617021  0.93877551  0.88888889\n",
      "  0.91304348  0.93877551  0.91304348  0.93877551]\n",
      "[ 0.89361702  0.86956522  0.95833333  0.86363636  0.875       0.85714286\n",
      "  0.91304348  0.90196078  0.97959184  0.93333333]\n",
      "[ 0.95833333  0.97959184  0.90196078  0.93617021  0.93877551  0.88888889\n",
      "  0.91304348  0.93877551  0.91304348  0.93877551]\n",
      "[ 0.89361702  0.86956522  0.95833333  0.86363636  0.875       0.85714286\n",
      "  0.91304348  0.90196078  0.97959184  0.93333333]\n",
      "[ 0.89361702  0.86956522  0.95833333  0.86363636  0.875       0.85714286\n",
      "  0.91304348  0.90196078  0.97959184  0.93333333]\n",
      "[ 0.93877551  0.97959184  0.96        0.93617021  0.93617021  0.93617021\n",
      "  0.96        0.81632653  0.88888889  0.91304348]\n",
      "[ 0.95833333  0.97959184  0.90196078  0.93617021  0.93877551  0.88888889\n",
      "  0.91304348  0.93877551  0.91304348  0.93877551]\n",
      "[ 0.95833333  0.97959184  0.90196078  0.93617021  0.93877551  0.88888889\n",
      "  0.91304348  0.93877551  0.91304348  0.93877551]\n",
      "[ 0.95833333  0.97959184  0.90196078  0.93617021  0.93877551  0.88888889\n",
      "  0.91304348  0.93877551  0.91304348  0.93877551]\n",
      "[ 0.89361702  0.86956522  0.95833333  0.86363636  0.875       0.85714286\n",
      "  0.91304348  0.90196078  0.97959184  0.93333333]\n",
      "[ 0.93877551  0.97959184  0.96        0.93617021  0.93617021  0.93617021\n",
      "  0.96        0.81632653  0.88888889  0.91304348][ 0.89361702  0.86956522  0.95833333  0.86363636  0.875       0.85714286\n",
      "  0.91304348  0.90196078  0.97959184  0.93333333]\n",
      "\n",
      "[ 0.93877551  0.97959184  0.96        0.93617021  0.93617021  0.93617021\n",
      "  0.96        0.81632653  0.88888889  0.91304348]\n",
      "[ 0.95833333  0.97959184  0.90196078  0.93617021  0.93877551  0.88888889\n",
      "  0.91304348  0.93877551  0.91304348  0.93877551]\n",
      "[ 0.93877551  0.97959184  0.96        0.93617021  0.93617021  0.93617021\n",
      "  0.96        0.81632653  0.88888889  0.91304348]\n",
      "[ 0.89361702  0.86956522  0.95833333  0.86363636  0.875       0.85714286\n",
      "  0.91304348  0.90196078  0.97959184  0.93333333]\n",
      "[ 0.95833333  0.97959184  0.90196078  0.93617021  0.93877551  0.88888889\n",
      "  0.91304348  0.93877551  0.91304348  0.93877551][ 0.93877551  0.97959184  0.96        0.93617021  0.93617021  0.93617021\n",
      "  0.96        0.81632653  0.88888889  0.91304348]\n",
      "\n",
      "[ 0.89361702  0.86956522  0.95833333  0.86363636  0.875       0.85714286\n",
      "  0.91304348  0.90196078  0.97959184  0.93333333]\n",
      "[ 0.93877551  0.97959184  0.96        0.93617021  0.93617021  0.93617021\n",
      "  0.96        0.81632653  0.88888889  0.91304348]\n",
      "[ 0.89361702  0.86956522  0.95833333  0.86363636  0.875       0.85714286\n",
      "  0.91304348  0.90196078  0.97959184  0.93333333]\n",
      "[ 0.89361702  0.86956522  0.95833333  0.86363636  0.875       0.85714286\n",
      "  0.91304348  0.90196078  0.97959184  0.93333333]\n",
      "[ 0.95833333  0.97959184  0.92        0.93617021  0.93877551  0.88888889\n",
      "  0.91304348  0.93877551  0.91304348  0.93877551]\n",
      "[ 0.93877551  0.97959184  0.96        0.93617021  0.93617021  0.93617021\n",
      "  0.96        0.81632653  0.88888889  0.91304348]\n",
      "[ 0.95833333  0.97959184  0.92        0.93617021  0.93877551  0.88888889\n",
      "  0.91304348  0.93877551  0.91304348  0.93877551]\n",
      "[ 0.95833333  0.97959184  0.90196078  0.93617021  0.93877551  0.88888889\n",
      "  0.91304348  0.93877551  0.91304348  0.93877551]\n",
      "[ 0.89361702  0.86956522  0.95833333  0.86363636  0.875       0.85714286\n",
      "  0.91304348  0.90196078  0.97959184  0.93333333]\n",
      "[ 0.93877551  0.97959184  0.96        0.93617021  0.93617021  0.93617021\n",
      "  0.96        0.81632653  0.88888889  0.91304348]\n",
      "[ 0.93877551  0.97959184  0.96        0.93617021  0.93617021  0.93617021\n",
      "  0.96        0.81632653  0.88888889  0.91304348]\n",
      "[ 0.93877551  0.97959184  0.96        0.93617021  0.93617021  0.93617021\n",
      "  0.96        0.81632653  0.88888889  0.91304348]\n",
      "[ 0.89361702  0.86956522  0.95833333  0.86363636  0.875       0.85714286\n",
      "  0.91304348  0.90196078  0.97959184  0.93333333][ 0.95833333  0.97959184  0.92        0.93617021  0.93877551  0.88888889\n",
      "  0.91304348  0.93877551  0.91304348  0.93877551]\n",
      "\n",
      "[ 0.95833333  0.97959184  0.92        0.93617021  0.93877551  0.88888889\n",
      "  0.91304348  0.93877551  0.91304348  0.93877551]\n",
      "[ 0.89361702  0.86956522  0.95833333  0.86363636  0.875       0.85714286\n",
      "  0.91304348  0.90196078  0.97959184  0.93333333]\n",
      "[ 0.93877551  0.97959184  0.96        0.93617021  0.93617021  0.93617021\n",
      "  0.96        0.81632653  0.88888889  0.91304348]\n",
      "[ 0.89361702  0.86956522  0.95833333  0.86363636  0.875       0.85714286\n",
      "  0.91304348  0.90196078  0.97959184  0.93333333]\n",
      "[ 0.95833333  0.97959184  0.92        0.93617021  0.93877551  0.88888889\n",
      "  0.91304348  0.93877551  0.91304348  0.93877551]\n",
      "[ 0.93877551  0.97959184  0.96        0.93617021  0.93617021  0.93617021\n",
      "  0.96        0.81632653  0.88888889  0.91304348]\n",
      "[ 0.95833333  0.97959184  0.92        0.93617021  0.93877551  0.88888889\n",
      "  0.91304348  0.93877551  0.91304348  0.93877551]\n",
      "[ 0.93877551  0.97959184  0.96        0.93617021  0.93617021  0.93617021\n",
      "  0.96        0.81632653  0.88888889  0.91304348]\n",
      "[ 0.95833333  0.97959184  0.92        0.93617021  0.93877551  0.88888889\n",
      "  0.91304348  0.93877551  0.91304348  0.93877551]\n",
      "[ 0.89361702  0.86956522  0.95833333  0.86363636  0.875       0.85714286\n",
      "  0.91304348  0.90196078  0.97959184  0.93333333]\n",
      "[ 0.93877551  0.97959184  0.96        0.93617021  0.93617021  0.93617021\n",
      "  0.96        0.81632653  0.88888889  0.91304348]\n",
      "[ 0.89361702  0.86956522  0.95833333  0.86363636  0.875       0.85714286\n",
      "  0.91304348  0.90196078  0.97959184  0.93333333]\n",
      "[ 0.89361702  0.86956522  0.95833333  0.86363636  0.875       0.85714286\n",
      "  0.91304348  0.90196078  0.97959184  0.93333333]\n",
      "[ 0.95833333  0.97959184  0.92        0.93617021  0.93877551  0.88888889\n",
      "  0.91304348  0.93877551  0.91304348  0.93877551]\n",
      "[ 0.95833333  0.97959184  0.92        0.93617021  0.93877551  0.88888889\n",
      "  0.91304348  0.93877551  0.91304348  0.93877551]\n",
      "[ 0.89361702  0.86956522  0.95833333  0.86363636  0.875       0.85714286\n",
      "  0.91304348  0.90196078  0.97959184  0.93333333]\n",
      "[ 0.93877551  0.97959184  0.96        0.93617021  0.93617021  0.93617021\n",
      "  0.96        0.81632653  0.88888889  0.91304348]\n",
      "[ 0.93877551  0.97959184  0.96        0.93617021  0.93617021  0.93617021\n",
      "  0.96        0.81632653  0.88888889  0.91304348]\n",
      "[ 0.95833333  0.97959184  0.92        0.93617021  0.93877551  0.88888889\n",
      "  0.91304348  0.93877551  0.91304348  0.93877551]\n",
      "[ 0.89361702  0.86956522  0.95833333  0.86363636  0.875       0.85714286\n",
      "  0.91304348  0.90196078  0.97959184  0.93333333]\n",
      "[ 0.93877551  0.97959184  0.96        0.93617021  0.93617021  0.93617021\n",
      "  0.96        0.81632653  0.88888889  0.91304348][ 0.95833333  0.97959184  0.92        0.93617021  0.93877551  0.88888889\n",
      "  0.91304348  0.93877551  0.91304348  0.93877551]\n",
      "\n",
      "[ 0.89361702  0.86956522  0.95833333  0.86363636  0.875       0.85714286\n",
      "  0.91304348  0.90196078  0.97959184  0.93333333]\n",
      "[ 0.89361702  0.86956522  0.95833333  0.86363636  0.875       0.85714286\n",
      "  0.91304348  0.90196078  0.97959184  0.93333333]\n",
      "[ 0.93877551  0.97959184  0.96        0.93617021  0.93617021  0.93617021\n",
      "  0.96        0.81632653  0.88888889  0.91304348][ 0.93877551  0.97959184  0.96        0.93617021  0.93617021  0.93617021\n",
      "  0.96        0.81632653  0.88888889  0.91304348]\n",
      "\n",
      "[ 0.95833333  0.97959184  0.92        0.93617021  0.93877551  0.88888889\n",
      "  0.91304348  0.93877551  0.91304348  0.93877551]\n",
      "[ 0.95833333  0.97959184  0.92        0.93617021  0.93877551  0.88888889\n",
      "  0.91304348  0.93877551  0.91304348  0.93877551]\n",
      "[ 0.89361702  0.86956522  0.95833333  0.86363636  0.875       0.85714286\n",
      "  0.91304348  0.90196078  0.97959184  0.93333333]\n",
      "[ 0.95833333  0.97959184  0.92        0.93617021  0.93877551  0.88888889\n",
      "  0.91304348  0.93877551  0.91304348  0.93877551]\n",
      "[ 0.89361702  0.86956522  0.95833333  0.86363636  0.875       0.85714286\n",
      "  0.91304348  0.90196078  0.97959184  0.93333333]\n",
      "[ 0.93877551  0.97959184  0.96        0.93617021  0.93617021  0.93617021\n",
      "  0.96        0.81632653  0.88888889  0.91304348]\n",
      "[ 0.95833333  0.97959184  0.92        0.93617021  0.93877551  0.88888889\n",
      "  0.91304348  0.93877551  0.91304348  0.93877551][ 0.89361702  0.86956522  0.95833333  0.86363636  0.875       0.85714286\n",
      "  0.91304348  0.90196078  0.97959184  0.93333333]\n",
      "\n",
      "[ 0.93877551  0.97959184  0.96        0.93617021  0.93617021  0.93617021\n",
      "  0.96        0.81632653  0.88888889  0.91304348][ 0.93877551  0.97959184  0.96        0.93617021  0.93617021  0.93617021\n",
      "  0.96        0.81632653  0.88888889  0.91304348]\n",
      "\n",
      "[ 0.89361702  0.86956522  0.95833333  0.86363636  0.875       0.85714286\n",
      "  0.91304348  0.90196078  0.97959184  0.93333333]\n",
      "[ 0.93877551  0.97959184  0.96        0.93617021  0.93617021  0.93617021\n",
      "  0.96        0.81632653  0.88888889  0.91304348]\n",
      "[ 0.95833333  0.97959184  0.92        0.93617021  0.93877551  0.88888889\n",
      "  0.91304348  0.93877551  0.91304348  0.93877551][ 0.95833333  0.97959184  0.92        0.93617021  0.93877551  0.88888889\n",
      "  0.91304348  0.93877551  0.91304348  0.93877551]\n",
      "\n",
      "[ 0.89361702  0.86956522  0.95833333  0.86363636  0.875       0.85714286\n",
      "  0.91304348  0.90196078  0.97959184  0.93333333]\n",
      "[ 0.93877551  0.97959184  0.96        0.93617021  0.93617021  0.93617021\n",
      "  0.96        0.81632653  0.88888889  0.91304348]\n",
      "[ 0.93877551  0.97959184  0.96        0.93617021  0.93617021  0.93617021\n",
      "  0.96        0.81632653  0.88888889  0.91304348]\n",
      "[ 0.95833333  0.97959184  0.92        0.93617021  0.93877551  0.88888889\n",
      "  0.91304348  0.93877551  0.91304348  0.93877551]\n",
      "[ 0.89361702  0.86956522  0.95833333  0.86363636  0.875       0.85714286\n",
      "  0.91304348  0.90196078  0.97959184  0.93333333][ 0.95833333  0.97959184  0.92        0.93617021  0.93877551  0.88888889\n",
      "  0.91304348  0.93877551  0.91304348  0.93877551]\n",
      "\n",
      "[ 0.95833333  0.97959184  0.92        0.93617021  0.93877551  0.88888889\n",
      "  0.91304348  0.93877551  0.91304348  0.93877551]\n",
      "[ 0.89361702  0.86956522  0.95833333  0.86363636  0.875       0.85714286\n",
      "  0.91304348  0.90196078  0.97959184  0.93333333][ 0.93877551  0.97959184  0.96        0.93617021  0.93617021  0.93617021\n",
      "  0.96        0.81632653  0.88888889  0.91304348]\n",
      "\n",
      "[ 0.89361702  0.86956522  0.95833333  0.86363636  0.875       0.85714286\n",
      "  0.91304348  0.90196078  0.97959184  0.93333333]\n",
      "[ 0.89361702  0.86956522  0.95833333  0.86363636  0.875       0.85714286\n",
      "  0.91304348  0.90196078  0.97959184  0.93333333]\n",
      "[ 0.95833333  0.97959184  0.92        0.93617021  0.93877551  0.88888889\n",
      "  0.91304348  0.93877551  0.91304348  0.93877551]\n",
      "[ 0.93877551  0.97959184  0.96        0.93617021  0.93617021  0.93617021\n",
      "  0.96        0.81632653  0.88888889  0.91304348]\n",
      "[ 0.93877551  0.97959184  0.96        0.93617021  0.93617021  0.93617021\n",
      "  0.96        0.81632653  0.88888889  0.91304348]\n",
      "[ 0.93877551  0.97959184  0.96        0.93617021  0.93617021  0.93617021\n",
      "  0.96        0.81632653  0.88888889  0.91304348]\n",
      "[ 0.95833333  0.97959184  0.92        0.93617021  0.93877551  0.88888889\n",
      "  0.91304348  0.93877551  0.91304348  0.93877551]\n",
      "[ 0.95833333  0.97959184  0.92        0.93617021  0.93877551  0.88888889\n",
      "  0.91304348  0.93877551  0.91304348  0.93877551]\n",
      "[ 0.89361702  0.86956522  0.95833333  0.86363636  0.875       0.85714286\n",
      "  0.91304348  0.90196078  0.97959184  0.93333333]\n",
      "[ 0.89361702  0.86956522  0.95833333  0.86363636  0.875       0.85714286\n",
      "  0.91304348  0.90196078  0.97959184  0.93333333]\n",
      "[ 0.89361702  0.86956522  0.95833333  0.86363636  0.875       0.85714286\n",
      "  0.91304348  0.90196078  0.97959184  0.93333333]\n",
      "[ 0.93877551  0.97959184  0.96        0.93617021  0.93617021  0.93617021\n",
      "  0.96        0.81632653  0.88888889  0.91304348]\n",
      "[ 0.93877551  0.97959184  0.96        0.93617021  0.93617021  0.93617021\n",
      "  0.96        0.81632653  0.88888889  0.91304348]\n",
      "[ 0.95833333  0.97959184  0.92        0.93617021  0.93877551  0.88888889\n",
      "  0.91304348  0.93877551  0.91304348  0.93877551]\n",
      "[ 0.95833333  0.97959184  0.92        0.93617021  0.93877551  0.88888889\n",
      "  0.91304348  0.93877551  0.91304348  0.93877551]\n",
      "[ 0.93877551  0.97959184  0.96        0.93617021  0.93617021  0.93617021\n",
      "  0.96        0.81632653  0.88888889  0.91304348]\n",
      "[ 0.89361702  0.86956522  0.95833333  0.86363636  0.875       0.85714286\n",
      "  0.91304348  0.90196078  0.97959184  0.93333333]\n",
      "[ 0.93877551  0.97959184  0.96        0.93617021  0.93617021  0.93617021\n",
      "  0.96        0.81632653  0.88888889  0.91304348]\n",
      "[ 0.89361702  0.86956522  0.95833333  0.86363636  0.875       0.85714286\n",
      "  0.91304348  0.90196078  0.97959184  0.93333333][ 0.95833333  0.97959184  0.92        0.93617021  0.93877551  0.88888889\n",
      "  0.91304348  0.93877551  0.91304348  0.93877551]\n",
      "\n",
      "[ 0.95833333  0.97959184  0.92        0.93617021  0.93877551  0.88888889\n",
      "  0.91304348  0.93877551  0.91304348  0.93877551][ 0.95833333  0.97959184  0.92        0.93617021  0.93877551  0.88888889\n",
      "  0.91304348  0.93877551  0.91304348  0.93877551]\n",
      "\n",
      "[ 0.93877551  0.97959184  0.96        0.93617021  0.93617021  0.93617021\n",
      "  0.96        0.81632653  0.88888889  0.91304348]\n",
      "[ 0.89361702  0.86956522  0.95833333  0.86363636  0.875       0.85714286\n",
      "  0.91304348  0.90196078  0.97959184  0.93333333]\n",
      "[ 0.93877551  0.97959184  0.96        0.93617021  0.93617021  0.93617021\n",
      "  0.96        0.81632653  0.88888889  0.91304348]\n",
      "[ 0.89361702  0.86956522  0.95833333  0.86363636  0.875       0.85714286\n",
      "  0.91304348  0.90196078  0.97959184  0.93333333]\n",
      "[ 0.89361702  0.86956522  0.95833333  0.86363636  0.875       0.85714286\n",
      "  0.91304348  0.90196078  0.97959184  0.93333333]\n",
      "[ 0.95833333  0.97959184  0.92        0.93617021  0.93877551  0.88888889\n",
      "  0.91304348  0.93877551  0.91304348  0.93877551]\n",
      "[ 0.93877551  0.97959184  0.96        0.93617021  0.93617021  0.93617021\n",
      "  0.96        0.81632653  0.88888889  0.91304348]\n",
      "[ 0.93877551  0.97959184  0.96        0.93617021  0.93617021  0.93617021\n",
      "  0.96        0.81632653  0.88888889  0.91304348]\n",
      "[ 0.95833333  0.97959184  0.92        0.93617021  0.93877551  0.88888889\n",
      "  0.91304348  0.93877551  0.91304348  0.93877551]\n",
      "[ 0.89361702  0.86956522  0.95833333  0.86363636  0.875       0.85714286\n",
      "  0.91304348  0.90196078  0.97959184  0.93333333]\n",
      "[ 0.89361702  0.86956522  0.95833333  0.86363636  0.875       0.85714286\n",
      "  0.91304348  0.90196078  0.97959184  0.93333333]\n",
      "[ 0.93877551  0.97959184  0.96        0.93617021  0.93617021  0.93617021\n",
      "  0.96        0.81632653  0.88888889  0.91304348]\n",
      "[ 0.95833333  0.97959184  0.92        0.93617021  0.93877551  0.88888889\n",
      "  0.91304348  0.93877551  0.91304348  0.93877551]\n",
      "[ 0.89361702  0.86956522  0.95833333  0.86363636  0.875       0.85714286\n",
      "  0.91304348  0.90196078  0.97959184  0.93333333]\n",
      "[ 0.89361702  0.86956522  0.95833333  0.86363636  0.875       0.85714286\n",
      "  0.91304348  0.90196078  0.97959184  0.93333333]\n",
      "[ 0.95833333  0.97959184  0.92        0.93617021  0.93877551  0.88888889\n",
      "  0.91304348  0.93877551  0.91304348  0.93877551]\n",
      "[ 0.93877551  0.97959184  0.96        0.93617021  0.93617021  0.93617021\n",
      "  0.96        0.81632653  0.88888889  0.91304348]\n",
      "[ 0.89361702  0.86956522  0.95833333  0.86363636  0.875       0.85714286\n",
      "  0.91304348  0.90196078  0.97959184  0.93333333]\n",
      "[ 0.93877551  0.97959184  0.96        0.93617021  0.93617021  0.93617021\n",
      "  0.96        0.81632653  0.88888889  0.91304348]\n",
      "[ 0.95833333  0.97959184  0.92        0.93617021  0.93877551  0.88888889\n",
      "  0.91304348  0.93877551  0.91304348  0.93877551]\n",
      "[ 0.95833333  0.97959184  0.92        0.93617021  0.93877551  0.88888889\n",
      "  0.91304348  0.93877551  0.91304348  0.93877551]\n",
      "[ 0.95833333  0.97959184  0.92        0.93617021  0.93877551  0.88888889\n",
      "  0.91304348  0.93877551  0.91304348  0.93877551]\n",
      "[ 0.93877551  0.97959184  0.96        0.93617021  0.93617021  0.93617021\n",
      "  0.96        0.81632653  0.88888889  0.91304348]\n",
      "[ 0.89361702  0.86956522  0.95833333  0.86363636  0.875       0.85714286\n",
      "  0.91304348  0.90196078  0.97959184  0.93333333]\n",
      "[ 0.89361702  0.86956522  0.95833333  0.86363636  0.875       0.85714286\n",
      "  0.91304348  0.90196078  0.97959184  0.93333333]\n",
      "[ 0.93877551  0.97959184  0.96        0.93617021  0.93617021  0.93617021\n",
      "  0.96        0.81632653  0.88888889  0.91304348]\n",
      "[ 0.95833333  0.97959184  0.92        0.93617021  0.93877551  0.88888889\n",
      "  0.91304348  0.93877551  0.91304348  0.93877551]\n",
      "[ 0.93877551  0.97959184  0.96        0.93617021  0.93617021  0.93617021\n",
      "  0.93877551  0.81632653  0.88888889  0.91304348]\n",
      "[ 0.93877551  0.97959184  0.96        0.93617021  0.93617021  0.93617021\n",
      "  0.93877551  0.81632653  0.88888889  0.91304348]\n",
      "[ 0.89361702  0.86956522  0.95833333  0.86363636  0.875       0.85714286\n",
      "  0.91304348  0.90196078  0.97959184  0.93333333]\n",
      "[ 0.93877551  0.97959184  0.96        0.93617021  0.93617021  0.93617021\n",
      "  0.93877551  0.81632653  0.88888889  0.91304348]\n",
      "[ 0.89361702  0.86956522  0.95833333  0.86363636  0.875       0.85714286\n",
      "  0.91304348  0.90196078  0.97959184  0.93333333]\n",
      "[ 0.95833333  0.97959184  0.92        0.93617021  0.93877551  0.88888889\n",
      "  0.91304348  0.93877551  0.91304348  0.93877551]\n",
      "[ 0.95833333  0.97959184  0.92        0.93617021  0.93877551  0.88888889\n",
      "  0.91304348  0.93877551  0.91304348  0.93877551]\n",
      "[ 0.93877551  0.97959184  0.96        0.93617021  0.93617021  0.93617021\n",
      "  0.93877551  0.81632653  0.88888889  0.91304348]\n",
      "[ 0.89361702  0.86956522  0.95833333  0.86363636  0.875       0.85714286\n",
      "  0.91304348  0.90196078  0.97959184  0.93333333]\n",
      "[ 0.89361702  0.86956522  0.95833333  0.86363636  0.875       0.85714286\n",
      "  0.91304348  0.90196078  0.97959184  0.93333333]\n",
      "[ 0.95833333  0.97959184  0.92        0.93617021  0.93877551  0.88888889\n",
      "  0.91304348  0.93877551  0.91304348  0.93877551]\n",
      "[ 0.93877551  0.97959184  0.96        0.93617021  0.93617021  0.93617021\n",
      "  0.93877551  0.81632653  0.88888889  0.91304348]\n",
      "[ 0.95833333  0.97959184  0.92        0.93617021  0.93877551  0.88888889\n",
      "  0.91304348  0.93877551  0.91304348  0.93877551]\n",
      "[ 0.89361702  0.86956522  0.95833333  0.86363636  0.875       0.85714286\n",
      "  0.91304348  0.90196078  0.97959184  0.93333333]\n",
      "[ 0.95833333  0.97959184  0.92        0.93617021  0.93877551  0.88888889\n",
      "  0.91304348  0.93877551  0.91304348  0.93877551]\n",
      "[ 0.95833333  0.97959184  0.92        0.93617021  0.93877551  0.88888889\n",
      "  0.91304348  0.93877551  0.91304348  0.93877551]\n",
      "[ 0.89361702  0.86956522  0.95833333  0.86363636  0.875       0.85714286\n",
      "  0.91304348  0.90196078  0.97959184  0.93333333]\n",
      "[ 0.93877551  0.97959184  0.96        0.93617021  0.93617021  0.93617021\n",
      "  0.93877551  0.81632653  0.88888889  0.91304348]\n",
      "[ 0.89361702  0.86956522  0.95833333  0.86363636  0.875       0.85714286\n",
      "  0.91304348  0.90196078  0.97959184  0.93333333]\n",
      "[ 0.93877551  0.97959184  0.96        0.93617021  0.93617021  0.93617021\n",
      "  0.93877551  0.81632653  0.88888889  0.91304348]\n",
      "[ 0.95833333  0.97959184  0.92        0.93617021  0.93877551  0.88888889\n",
      "  0.91304348  0.93877551  0.91304348  0.93877551]\n",
      "[ 0.89361702  0.86956522  0.95833333  0.86363636  0.875       0.85714286\n",
      "  0.91304348  0.90196078  0.97959184  0.93333333]\n",
      "[ 0.95833333  0.97959184  0.92        0.93617021  0.93877551  0.88888889\n",
      "  0.91304348  0.93877551  0.91304348  0.93877551][ 0.95833333  0.97959184  0.92        0.93617021  0.93877551  0.88888889\n",
      "  0.91304348  0.93877551  0.91304348  0.93877551]\n",
      "\n",
      "[ 0.93877551  0.97959184  0.96        0.93617021  0.93617021  0.93617021\n",
      "  0.93877551  0.81632653  0.88888889  0.91304348]\n",
      "[ 0.93877551  0.97959184  0.96        0.93617021  0.93617021  0.93617021\n",
      "  0.93877551  0.81632653  0.88888889  0.91304348]\n",
      "[ 0.89361702  0.86956522  0.95833333  0.86363636  0.875       0.85714286\n",
      "  0.91304348  0.90196078  0.97959184  0.93333333]\n",
      "[ 0.93877551  0.97959184  0.96        0.93617021  0.93617021  0.93617021\n",
      "  0.93877551  0.81632653  0.88888889  0.91304348]\n",
      "[ 0.95833333  0.97959184  0.92        0.93617021  0.93877551  0.88888889\n",
      "  0.91304348  0.93877551  0.91304348  0.93877551]\n",
      "[ 0.89361702  0.86956522  0.95833333  0.86363636  0.875       0.85714286\n",
      "  0.91304348  0.90196078  0.97959184  0.93333333]\n",
      "[ 0.93877551  0.97959184  0.96        0.93617021  0.93617021  0.93617021\n",
      "  0.93877551  0.81632653  0.88888889  0.91304348]\n",
      "[ 0.95833333  0.97959184  0.92        0.93617021  0.93877551  0.88888889\n",
      "  0.91304348  0.93877551  0.91304348  0.93877551]\n",
      "[ 0.93877551  0.97959184  0.96        0.93617021  0.93617021  0.93617021\n",
      "  0.93877551  0.81632653  0.88888889  0.91304348]\n",
      "[ 0.95833333  0.97959184  0.92        0.93617021  0.93877551  0.88888889\n",
      "  0.91304348  0.93877551  0.91304348  0.93877551]\n",
      "[ 0.89361702  0.86956522  0.95833333  0.86363636  0.875       0.85714286\n",
      "  0.91304348  0.90196078  0.97959184  0.93333333]\n",
      "[ 0.89361702  0.86956522  0.95833333  0.86363636  0.875       0.85714286\n",
      "  0.91304348  0.90196078  0.97959184  0.93333333]\n",
      "[ 0.95833333  0.97959184  0.92        0.93617021  0.93877551  0.88888889\n",
      "  0.91304348  0.93877551  0.91304348  0.93877551]\n",
      "[ 0.89361702  0.86956522  0.95833333  0.86363636  0.875       0.85714286\n",
      "  0.91304348  0.90196078  0.97959184  0.93333333]\n",
      "[ 0.93877551  0.97959184  0.96        0.93617021  0.93617021  0.93617021\n",
      "  0.93877551  0.81632653  0.88888889  0.91304348]\n",
      "[ 0.93877551  0.97959184  0.96        0.93617021  0.93617021  0.93617021\n",
      "  0.93877551  0.81632653  0.88888889  0.91304348]\n",
      "[ 0.93877551  0.97959184  0.96        0.93617021  0.93617021  0.93617021\n",
      "  0.93877551  0.81632653  0.88888889  0.91304348]\n",
      "[ 0.95833333  0.97959184  0.92        0.93617021  0.93877551  0.88888889\n",
      "  0.91304348  0.93877551  0.91304348  0.93877551]\n",
      "[ 0.89361702  0.86956522  0.95833333  0.86363636  0.875       0.85714286\n",
      "  0.91304348  0.90196078  0.97959184  0.93333333]\n",
      "[ 0.89361702  0.86956522  0.95833333  0.86363636  0.875       0.85714286\n",
      "  0.91304348  0.90196078  0.97959184  0.93333333]\n",
      "[ 0.95833333  0.97959184  0.92        0.93617021  0.93877551  0.88888889\n",
      "  0.91304348  0.93877551  0.91304348  0.93877551]\n"
     ]
    },
    {
     "data": {
      "text/plain": [
       "GridSearchCV(cv=None, error_score='raise',\n",
       "       estimator=LogisticRegression(C=1.0, class_weight='balanced', dual=False,\n",
       "          fit_intercept=True, intercept_scaling=1, max_iter=100,\n",
       "          multi_class='ovr', n_jobs=-1, penalty='l2', random_state=None,\n",
       "          solver='liblinear', tol=0.0001, verbose=0, warm_start=False),\n",
       "       fit_params={}, iid=True, n_jobs=-1,\n",
       "       param_grid={'C': array([  5.     ,   5.05051, ...,   9.94949,  10.     ])},\n",
       "       pre_dispatch='2*n_jobs', refit=True,\n",
       "       scoring=<function score_func at 0x7fe57c3c0950>, verbose=0)"
      ]
     },
     "execution_count": 120,
     "metadata": {},
     "output_type": "execute_result"
    }
   ],
   "source": [
    "Cs = np.linspace(5, 10, 100)\n",
    "logistic = LogisticRegression(n_jobs=-1, class_weight='balanced')\n",
    "estimator_2 = GridSearchCV(logistic, dict(C=Cs), n_jobs=-1, scoring=score_func)\n",
    "estimator_2.fit(features, labels)"
   ]
  },
  {
   "cell_type": "code",
   "execution_count": 121,
   "metadata": {
    "collapsed": false
   },
   "outputs": [
    {
     "name": "stdout",
     "output_type": "stream",
     "text": [
      "{'C': 7.4747474747474749} 0.9211919622426195\n"
     ]
    }
   ],
   "source": [
    "b_est2 = estimator_2.best_estimator_\n",
    "b_params2 = estimator_2.best_params_\n",
    "b_score2 = estimator_2.best_score_\n",
    "print(b_params2, b_score2)"
   ]
  },
  {
   "cell_type": "code",
   "execution_count": 122,
   "metadata": {
    "collapsed": false
   },
   "outputs": [
    {
     "data": {
      "text/plain": [
       "[<matplotlib.lines.Line2D at 0x7fe57a339c18>]"
      ]
     },
     "execution_count": 122,
     "metadata": {},
     "output_type": "execute_result"
    },
    {
     "data": {
      "image/png": "[encoded data removed]",
      "text/plain": [
       "<matplotlib.figure.Figure at 0x7fe57a3686a0>"
      ]
     },
     "metadata": {},
     "output_type": "display_data"
    }
   ],
   "source": [
    "plt.plot(Cs, [x[1] for x in estimator_2.grid_scores_])"
   ]
  },
  {
   "cell_type": "code",
   "execution_count": 132,
   "metadata": {
    "collapsed": false
   },
   "outputs": [],
   "source": [
    "features_mixed_case = CountVectorizer(lowercase=False).fit_transform(texts)"
   ]
  },
  {
   "cell_type": "code",
   "execution_count": 141,
   "metadata": {
    "collapsed": false
   },
   "outputs": [
    {
     "name": "stdout",
     "output_type": "stream",
     "text": [
      "[ 0.97959184  0.96        0.84615385  0.90196078  0.89795918  0.86956522\n",
      "  0.85714286  0.90196078  0.875       0.92      ]\n",
      "[ 0.93877551  0.875       0.93877551  0.86956522  0.85106383  0.90196078\n",
      "  0.88        0.88461538  0.98039216  0.90909091]\n",
      "[ 0.88461538  1.          0.90196078  0.88        0.89361702  0.91666667\n",
      "  0.96        0.84        0.88888889  0.8627451 ]\n",
      "[ 0.93877551  0.875       0.95833333  0.89361702  0.875       0.90196078\n",
      "  0.88        0.88461538  0.98039216  0.90909091]\n",
      "[ 0.95833333  0.96        0.90196078  0.90196078  0.91666667  0.88888889\n",
      "  0.85714286  0.92        0.91304348  0.93877551]\n",
      "[ 0.88461538  1.          0.90196078  0.88        0.89361702  0.91666667\n",
      "  0.96        0.84        0.88888889  0.85714286][ 0.93877551  0.875       0.95833333  0.89361702  0.875       0.88        0.88\n",
      "  0.88461538  0.98039216  0.90909091]\n",
      "\n",
      "[ 0.88461538  1.          0.94117647  0.89795918  0.89361702  0.91666667\n",
      "  0.96        0.81632653  0.88888889  0.875     ][ 0.88461538  1.          0.92307692  0.89795918  0.89361702  0.91666667\n",
      "  0.96        0.81632653  0.88888889  0.85714286]\n",
      "\n",
      "[ 0.91666667  0.875       0.95833333  0.89361702  0.875       0.88        0.88\n",
      "  0.90196078  1.          0.93333333]\n",
      "[ 0.95833333  0.96        0.90196078  0.93877551  0.91666667  0.88888889\n",
      "  0.875       0.92        0.91304348  0.93877551]\n",
      "[ 0.95833333  0.96        0.90196078  0.93877551  0.91666667  0.88888889\n",
      "  0.875       0.92        0.91304348  0.93877551]\n",
      "[ 0.91666667  0.875       0.95833333  0.89361702  0.875       0.85714286\n",
      "  0.89795918  0.90196078  1.          0.93333333]\n",
      "[ 0.93877551  1.          0.94117647  0.89795918  0.89361702  0.91666667\n",
      "  0.96        0.83333333  0.88888889  0.91304348]\n",
      "[ 0.95833333  0.96        0.90196078  0.95833333  0.91666667  0.88888889\n",
      "  0.91304348  0.92        0.91304348  0.93877551]\n",
      "[ 0.93877551  1.          0.94117647  0.89795918  0.89361702  0.91666667\n",
      "  0.96        0.83333333  0.88888889  0.89361702]\n",
      "[ 0.93877551  1.          0.94117647  0.89795918  0.89361702  0.91666667\n",
      "  0.96        0.83333333  0.88888889  0.91304348]\n",
      "[ 0.95833333  0.96        0.90196078  0.95833333  0.93877551  0.88888889\n",
      "  0.91304348  0.92        0.91304348  0.93877551]\n",
      "[ 0.91666667  0.875       0.95833333  0.89361702  0.875       0.85714286\n",
      "  0.89795918  0.90196078  1.          0.93333333]\n",
      "[ 0.91666667  0.875       0.95833333  0.89361702  0.875       0.85714286\n",
      "  0.89795918  0.90196078  1.          0.93333333]\n",
      "[ 0.95833333  0.96        0.90196078  0.95833333  0.93877551  0.88888889\n",
      "  0.91304348  0.93877551  0.91304348  0.93877551]\n",
      "[ 0.95833333  0.97959184  0.90196078  0.95833333  0.93877551  0.88888889\n",
      "  0.91304348  0.93877551  0.91304348  0.93877551]\n",
      "[ 0.93877551  1.          0.94117647  0.89795918  0.89361702  0.91666667\n",
      "  0.96        0.83333333  0.88888889  0.91304348]\n",
      "[ 0.95833333  0.97959184  0.90196078  0.95833333  0.93877551  0.88888889\n",
      "  0.91304348  0.93877551  0.91304348  0.93877551]\n",
      "[ 0.89361702  0.875       0.95833333  0.86956522  0.875       0.85714286\n",
      "  0.91666667  0.90196078  1.          0.93333333]\n",
      "[ 0.89361702  0.875       0.95833333  0.86956522  0.875       0.85714286\n",
      "  0.91666667  0.90196078  1.          0.93333333]\n",
      "[ 0.95833333  0.97959184  0.90196078  0.95833333  0.93877551  0.88888889\n",
      "  0.91304348  0.93877551  0.91304348  0.93877551]\n",
      "[ 0.93877551  1.          0.94117647  0.89795918  0.89361702  0.91666667\n",
      "  0.96        0.83333333  0.88888889  0.91304348]\n",
      "[ 0.93877551  1.          0.94117647  0.89795918  0.89361702  0.91666667\n",
      "  0.96        0.83333333  0.88888889  0.91304348]\n",
      "[ 0.93877551  1.          0.94117647  0.89795918  0.89361702  0.91666667\n",
      "  0.96        0.83333333  0.88888889  0.91304348]\n",
      "[ 0.95833333  0.97959184  0.90196078  0.95833333  0.93877551  0.88888889\n",
      "  0.91304348  0.93877551  0.91304348  0.93877551]\n",
      "[ 0.89361702  0.875       0.95833333  0.86956522  0.875       0.85714286\n",
      "  0.91666667  0.90196078  1.          0.93333333]\n",
      "[ 0.93877551  1.          0.94117647  0.89795918  0.89361702  0.91666667\n",
      "  0.96        0.83333333  0.88888889  0.91304348]\n",
      "[ 0.89361702  0.875       0.95833333  0.86956522  0.875       0.85714286\n",
      "  0.89361702  0.90196078  1.          0.93333333]\n",
      "[ 0.89361702  0.875       0.95833333  0.86956522  0.875       0.85714286\n",
      "  0.91666667  0.90196078  1.          0.93333333]\n",
      "[ 0.95833333  0.97959184  0.90196078  0.95833333  0.93877551  0.88888889\n",
      "  0.91304348  0.93877551  0.91304348  0.93877551]\n",
      "[ 0.95833333  0.97959184  0.90196078  0.95833333  0.93877551  0.88888889\n",
      "  0.91304348  0.93877551  0.91304348  0.93877551]\n",
      "[ 0.93877551  1.          0.94117647  0.91666667  0.89361702  0.91666667\n",
      "  0.96        0.83333333  0.88888889  0.91304348][ 0.93877551  1.          0.94117647  0.91666667  0.91304348  0.91666667\n",
      "  0.96        0.83333333  0.88888889  0.91304348]\n",
      "\n",
      "[ 0.89361702  0.875       0.95833333  0.86956522  0.875       0.85714286\n",
      "  0.89361702  0.90196078  1.          0.93333333]\n",
      "[ 0.93877551  1.          0.94117647  0.91666667  0.93617021  0.91666667\n",
      "  0.96        0.83333333  0.88888889  0.91304348]\n",
      "[ 0.89361702  0.875       0.95833333  0.86956522  0.875       0.85714286\n",
      "  0.89361702  0.90196078  1.          0.93333333]\n",
      "[ 0.89361702  0.875       0.95833333  0.86956522  0.875       0.85714286\n",
      "  0.89361702  0.90196078  1.          0.93333333]\n",
      "[ 0.95833333  0.97959184  0.90196078  0.95833333  0.93877551  0.88888889\n",
      "  0.91304348  0.93877551  0.91304348  0.93877551]\n",
      "[ 0.95833333  0.97959184  0.90196078  0.95833333  0.93877551  0.88888889\n",
      "  0.91304348  0.93877551  0.91304348  0.93877551]\n",
      "[ 0.93877551  0.97959184  0.94117647  0.93617021  0.93617021  0.91666667\n",
      "  0.96        0.83333333  0.88888889  0.91304348]\n",
      "[ 0.95833333  0.97959184  0.90196078  0.95833333  0.93877551  0.88888889\n",
      "  0.91304348  0.93877551  0.91304348  0.93877551]\n",
      "[ 0.93877551  0.97959184  0.94117647  0.91666667  0.93617021  0.91666667\n",
      "  0.96        0.83333333  0.88888889  0.91304348]\n",
      "[ 0.89361702  0.85106383  0.95833333  0.86956522  0.875       0.85714286\n",
      "  0.89361702  0.90196078  1.          0.93333333]\n",
      "[ 0.93877551  0.97959184  0.94117647  0.93617021  0.93617021  0.91666667\n",
      "  0.96        0.83333333  0.88888889  0.91304348]\n",
      "[ 0.95833333  0.97959184  0.90196078  0.95833333  0.93877551  0.88888889\n",
      "  0.91304348  0.93877551  0.91304348  0.93877551]\n",
      "[ 0.95833333  0.97959184  0.90196078  0.95833333  0.93877551  0.88888889\n",
      "  0.91304348  0.93877551  0.91304348  0.93877551]\n",
      "[ 0.89361702  0.86956522  0.95833333  0.84444444  0.875       0.85714286\n",
      "  0.89361702  0.90196078  1.          0.93333333]\n",
      "[ 0.95833333  0.97959184  0.90196078  0.95833333  0.93877551  0.88888889\n",
      "  0.91304348  0.93877551  0.91304348  0.93877551]\n",
      "[ 0.89361702  0.86956522  0.95833333  0.84444444  0.875       0.85714286\n",
      "  0.89361702  0.90196078  1.          0.93333333]\n",
      "[ 0.93877551  0.97959184  0.94117647  0.93617021  0.93617021  0.91666667\n",
      "  0.96        0.83333333  0.88888889  0.91304348]\n",
      "[ 0.93877551  0.97959184  0.94117647  0.93617021  0.93617021  0.91666667\n",
      "  0.96        0.81632653  0.88888889  0.91304348]\n",
      "[ 0.89361702  0.86956522  0.95833333  0.84444444  0.875       0.85714286\n",
      "  0.89361702  0.90196078  1.          0.93333333]\n",
      "[ 0.93877551  0.97959184  0.94117647  0.93617021  0.93617021  0.91666667\n",
      "  0.96        0.81632653  0.88888889  0.91304348]\n",
      "[ 0.89361702  0.86956522  0.95833333  0.84444444  0.875       0.85714286\n",
      "  0.89361702  0.90196078  1.          0.93333333]\n",
      "[ 0.95833333  0.97959184  0.90196078  0.95833333  0.93877551  0.88888889\n",
      "  0.91304348  0.93877551  0.91304348  0.93877551]\n",
      "[ 0.89361702  0.86956522  0.95833333  0.84444444  0.875       0.85714286\n",
      "  0.89361702  0.90196078  1.          0.93333333]\n",
      "[ 0.95833333  0.97959184  0.90196078  0.95833333  0.93877551  0.88888889\n",
      "  0.91304348  0.93877551  0.91304348  0.93877551]\n",
      "[ 0.89361702  0.86956522  0.95833333  0.84444444  0.875       0.85714286\n",
      "  0.89361702  0.90196078  1.          0.93333333]\n",
      "[ 0.95833333  0.97959184  0.90196078  0.95833333  0.93877551  0.86363636\n",
      "  0.91304348  0.93877551  0.91304348  0.93877551]\n",
      "[ 0.93877551  0.97959184  0.94117647  0.93617021  0.93617021  0.91666667\n",
      "  0.96        0.81632653  0.88888889  0.91304348]\n",
      "[ 0.93877551  0.97959184  0.94117647  0.93617021  0.93617021  0.91666667\n",
      "  0.96        0.81632653  0.88888889  0.91304348]\n",
      "[ 0.93877551  0.97959184  0.94117647  0.93617021  0.93617021  0.91666667\n",
      "  0.96        0.81632653  0.88888889  0.91304348]\n",
      "[ 0.95833333  0.97959184  0.90196078  0.95833333  0.93877551  0.86363636\n",
      "  0.91304348  0.93877551  0.91304348  0.93877551]\n",
      "[ 0.89361702  0.86956522  0.95833333  0.84444444  0.875       0.85714286\n",
      "  0.89361702  0.90196078  1.          0.93333333]\n",
      "[ 0.93877551  0.97959184  0.94117647  0.93617021  0.93617021  0.91666667\n",
      "  0.96        0.81632653  0.88888889  0.91304348]\n",
      "[ 0.89361702  0.86956522  0.95833333  0.84444444  0.875       0.85714286\n",
      "  0.89361702  0.90196078  1.          0.93333333]\n",
      "[ 0.95833333  0.97959184  0.90196078  0.95833333  0.93877551  0.88888889\n",
      "  0.91304348  0.93877551  0.91304348  0.93877551]\n",
      "[ 0.93877551  0.97959184  0.94117647  0.93617021  0.93617021  0.91666667\n",
      "  0.96        0.81632653  0.88888889  0.91304348]\n",
      "[ 0.95833333  0.97959184  0.90196078  0.95833333  0.93877551  0.88888889\n",
      "  0.91304348  0.93877551  0.91304348  0.93877551]\n",
      "[ 0.89361702  0.86956522  0.95833333  0.84444444  0.875       0.85714286\n",
      "  0.89361702  0.90196078  0.97959184  0.93333333]\n",
      "[ 0.89361702  0.86956522  0.95833333  0.84444444  0.875       0.85714286\n",
      "  0.89361702  0.90196078  1.          0.93333333]\n",
      "[ 0.95833333  0.97959184  0.90196078  0.95833333  0.93877551  0.88888889\n",
      "  0.91304348  0.93877551  0.91304348  0.93877551]\n",
      "[ 0.95833333  0.97959184  0.90196078  0.95833333  0.93877551  0.88888889\n",
      "  0.91304348  0.93877551  0.91304348  0.93877551]\n",
      "[ 0.93877551  0.97959184  0.94117647  0.93617021  0.93617021  0.91666667\n",
      "  0.96        0.81632653  0.88888889  0.91304348]\n",
      "[ 0.93877551  0.97959184  0.94117647  0.93617021  0.93617021  0.91666667\n",
      "  0.96        0.81632653  0.88888889  0.91304348]\n",
      "[ 0.95833333  0.97959184  0.90196078  0.95833333  0.93877551  0.88888889\n",
      "  0.91304348  0.93877551  0.91304348  0.93877551]\n",
      "[ 0.89361702  0.86956522  0.95833333  0.84444444  0.875       0.85714286\n",
      "  0.89361702  0.90196078  0.97959184  0.93333333][ 0.89361702  0.86956522  0.95833333  0.86363636  0.875       0.85714286\n",
      "  0.89361702  0.90196078  0.97959184  0.93333333]\n",
      "\n",
      "[ 0.89361702  0.86956522  0.95833333  0.86363636  0.875       0.85714286\n",
      "  0.89361702  0.90196078  0.97959184  0.93333333]\n",
      "[ 0.93877551  0.97959184  0.94117647  0.93617021  0.93617021  0.91666667\n",
      "  0.96        0.81632653  0.88888889  0.91304348]\n",
      "[ 0.93877551  0.97959184  0.94117647  0.93617021  0.93617021  0.91666667\n",
      "  0.96        0.81632653  0.88888889  0.91304348]\n",
      "[ 0.95833333  0.97959184  0.90196078  0.95833333  0.93877551  0.88888889\n",
      "  0.91304348  0.93877551  0.91304348  0.93877551][ 0.95833333  0.97959184  0.90196078  0.95833333  0.93877551  0.88888889\n",
      "  0.91304348  0.93877551  0.91304348  0.93877551]\n",
      "\n",
      "[ 0.93877551  0.97959184  0.94117647  0.93617021  0.93617021  0.91666667\n",
      "  0.96        0.81632653  0.88888889  0.91304348]\n",
      "[ 0.95833333  0.97959184  0.90196078  0.95833333  0.93877551  0.88888889\n",
      "  0.91304348  0.93877551  0.91304348  0.93877551][ 0.89361702  0.86956522  0.95833333  0.86363636  0.875       0.85714286\n",
      "  0.89361702  0.90196078  0.97959184  0.93333333]\n",
      "\n",
      "[ 0.89361702  0.86956522  0.95833333  0.86363636  0.875       0.85714286\n",
      "  0.89361702  0.90196078  0.97959184  0.93333333]\n",
      "[ 0.95833333  0.97959184  0.90196078  0.95833333  0.93877551  0.88888889\n",
      "  0.91304348  0.93877551  0.91304348  0.93877551]\n",
      "[ 0.89361702  0.86956522  0.95833333  0.86363636  0.875       0.85714286\n",
      "  0.89361702  0.90196078  0.97959184  0.93333333]\n",
      "[ 0.93877551  0.97959184  0.94117647  0.93617021  0.93617021  0.91666667\n",
      "  0.96        0.81632653  0.88888889  0.91304348]\n",
      "[ 0.95833333  0.97959184  0.90196078  0.95833333  0.93877551  0.88888889\n",
      "  0.91304348  0.93877551  0.91304348  0.93877551]\n",
      "[ 0.95833333  0.97959184  0.90196078  0.95833333  0.93877551  0.88888889\n",
      "  0.91304348  0.93877551  0.91304348  0.93877551][ 0.93877551  0.97959184  0.96        0.93617021  0.93617021  0.91666667\n",
      "  0.96        0.81632653  0.88888889  0.91304348]\n",
      "\n",
      "[ 0.93877551  0.97959184  0.96        0.93617021  0.93617021  0.91666667\n",
      "  0.96        0.81632653  0.88888889  0.91304348]\n",
      "[ 0.89361702  0.86956522  0.95833333  0.86363636  0.875       0.85714286\n",
      "  0.89361702  0.90196078  0.97959184  0.93333333]\n",
      "[ 0.89361702  0.86956522  0.95833333  0.86363636  0.875       0.85714286\n",
      "  0.89361702  0.90196078  0.97959184  0.93333333]\n",
      "[ 0.89361702  0.86956522  0.95833333  0.86363636  0.875       0.85714286\n",
      "  0.89361702  0.90196078  0.97959184  0.93333333]\n",
      "[ 0.95833333  0.97959184  0.90196078  0.95833333  0.93877551  0.88888889\n",
      "  0.91304348  0.93877551  0.91304348  0.93877551][ 0.93877551  0.97959184  0.96        0.93617021  0.93617021  0.91666667\n",
      "  0.96        0.81632653  0.88888889  0.91304348]\n",
      "\n",
      "[ 0.93877551  0.97959184  0.96        0.93617021  0.93617021  0.91666667\n",
      "  0.96        0.81632653  0.88888889  0.91304348]\n",
      "[ 0.95833333  0.97959184  0.90196078  0.95833333  0.93877551  0.88888889\n",
      "  0.91304348  0.93877551  0.91304348  0.93877551]\n",
      "[ 0.89361702  0.86956522  0.95833333  0.86363636  0.875       0.85714286\n",
      "  0.89361702  0.90196078  0.97959184  0.93333333]\n",
      "[ 0.93877551  0.97959184  0.96        0.93617021  0.93617021  0.91666667\n",
      "  0.96        0.81632653  0.88888889  0.91304348]\n",
      "[ 0.93877551  0.97959184  0.96        0.93617021  0.93617021  0.91666667\n",
      "  0.96        0.81632653  0.88888889  0.91304348][ 0.93877551  0.97959184  0.96        0.93617021  0.93617021  0.91666667\n",
      "  0.96        0.81632653  0.88888889  0.91304348]\n",
      "\n",
      "[ 0.95833333  0.97959184  0.90196078  0.95833333  0.93877551  0.88888889\n",
      "  0.91304348  0.93877551  0.91304348  0.93877551]\n",
      "[ 0.89361702  0.86956522  0.95833333  0.86363636  0.875       0.85714286\n",
      "  0.89361702  0.90196078  0.97959184  0.93333333]\n",
      "[ 0.95833333  0.97959184  0.90196078  0.95833333  0.93877551  0.88888889\n",
      "  0.91304348  0.93877551  0.91304348  0.93877551]\n",
      "[ 0.89361702  0.86956522  0.95833333  0.86363636  0.875       0.85714286\n",
      "  0.89361702  0.90196078  0.97959184  0.93333333]\n",
      "[ 0.89361702  0.86956522  0.95833333  0.86363636  0.875       0.85714286\n",
      "  0.89361702  0.90196078  0.97959184  0.93333333]\n",
      "[ 0.95833333  0.97959184  0.90196078  0.95833333  0.93877551  0.88888889\n",
      "  0.91304348  0.93877551  0.91304348  0.93877551]\n",
      "[ 0.93877551  0.97959184  0.96        0.93617021  0.93617021  0.91666667\n",
      "  0.96        0.81632653  0.88888889  0.91304348][ 0.93877551  0.97959184  0.96        0.93617021  0.93617021  0.91666667\n",
      "  0.96        0.81632653  0.88888889  0.91304348]\n",
      "\n",
      "[ 0.95833333  0.97959184  0.90196078  0.95833333  0.93877551  0.88888889\n",
      "  0.91304348  0.93877551  0.91304348  0.93877551]\n",
      "[ 0.89361702  0.86956522  0.95833333  0.86363636  0.875       0.85714286\n",
      "  0.89361702  0.90196078  0.97959184  0.93333333]\n",
      "[ 0.89361702  0.86956522  0.95833333  0.86363636  0.875       0.85714286\n",
      "  0.89361702  0.90196078  0.97959184  0.93333333]\n",
      "[ 0.95833333  0.97959184  0.90196078  0.95833333  0.93877551  0.88888889\n",
      "  0.91304348  0.93877551  0.91304348  0.93877551]\n",
      "[ 0.95833333  0.97959184  0.90196078  0.95833333  0.93877551  0.88888889\n",
      "  0.91304348  0.93877551  0.91304348  0.93877551]\n",
      "[ 0.89361702  0.86956522  0.95833333  0.86363636  0.875       0.85714286\n",
      "  0.89361702  0.90196078  0.97959184  0.93333333]\n",
      "[ 0.93877551  0.97959184  0.96        0.93617021  0.93617021  0.91666667\n",
      "  0.96        0.81632653  0.88888889  0.91304348]\n",
      "[ 0.95833333  0.97959184  0.90196078  0.95833333  0.93877551  0.88888889\n",
      "  0.91304348  0.93877551  0.91304348  0.93877551]\n",
      "[ 0.95833333  0.97959184  0.90196078  0.95833333  0.93877551  0.88888889\n",
      "  0.91304348  0.93877551  0.91304348  0.93877551]\n",
      "[ 0.89361702  0.86956522  0.95833333  0.86363636  0.875       0.85714286\n",
      "  0.89361702  0.90196078  0.97959184  0.93333333]\n",
      "[ 0.93877551  0.97959184  0.96        0.93617021  0.93617021  0.91666667\n",
      "  0.96        0.81632653  0.88888889  0.91304348]\n",
      "[ 0.93877551  0.97959184  0.96        0.93617021  0.93617021  0.91666667\n",
      "  0.96        0.81632653  0.88888889  0.91304348]\n",
      "[ 0.93877551  0.97959184  0.96        0.93617021  0.93617021  0.91666667\n",
      "  0.96        0.81632653  0.88888889  0.91304348]\n",
      "[ 0.95833333  0.97959184  0.90196078  0.95833333  0.93877551  0.88888889\n",
      "  0.91304348  0.93877551  0.91304348  0.93877551]\n",
      "[ 0.89361702  0.86956522  0.95833333  0.86363636  0.875       0.85714286\n",
      "  0.89361702  0.90196078  0.97959184  0.93333333]\n",
      "[ 0.89361702  0.86956522  0.95833333  0.86363636  0.875       0.85714286\n",
      "  0.89361702  0.90196078  0.97959184  0.93333333]\n",
      "[ 0.93877551  0.97959184  0.96        0.93617021  0.93617021  0.91666667\n",
      "  0.96        0.81632653  0.88888889  0.91304348]\n",
      "[ 0.93877551  0.97959184  0.96        0.93617021  0.93617021  0.93617021\n",
      "  0.96        0.81632653  0.88888889  0.91304348]\n",
      "\n",
      "[ 0.89361702  0.86956522  0.95833333  0.86363636  0.875       0.85714286\n",
      "  0.89361702  0.90196078  0.97959184  0.93333333][ 0.95833333  0.97959184  0.90196078  0.95833333  0.93877551  0.88888889\n",
      "  0.91304348  0.93877551  0.91304348  0.93877551]\n",
      "[ 0.95833333  0.97959184  0.90196078  0.95833333  0.93877551  0.88888889\n",
      "  0.91304348  0.93877551  0.91304348  0.93877551]\n",
      "[ 0.89361702  0.86956522  0.95833333  0.86363636  0.875       0.85714286\n",
      "  0.89361702  0.90196078  0.97959184  0.93333333]\n",
      "[ 0.95833333  0.97959184  0.90196078  0.95833333  0.93877551  0.88888889\n",
      "  0.91304348  0.93877551  0.91304348  0.93877551]\n",
      "[ 0.89361702  0.86956522  0.95833333  0.86363636  0.875       0.85714286\n",
      "  0.89361702  0.90196078  0.97959184  0.93333333]\n",
      "[ 0.93877551  0.97959184  0.96        0.93617021  0.93617021  0.93617021\n",
      "  0.96        0.81632653  0.88888889  0.91304348][ 0.95833333  0.97959184  0.90196078  0.93617021  0.93877551  0.88888889\n",
      "  0.91304348  0.93877551  0.91304348  0.93877551]\n",
      "[ 0.93877551  0.97959184  0.96        0.93617021  0.93617021  0.93617021\n",
      "  0.96        0.81632653  0.88888889  0.91304348]\n",
      "\n",
      "\n",
      "[ 0.89361702  0.86956522  0.95833333  0.86363636  0.875       0.85714286\n",
      "  0.89361702  0.90196078  0.97959184  0.93333333][ 0.93877551  0.97959184  0.96        0.93617021  0.93617021  0.93617021\n",
      "  0.96        0.81632653  0.88888889  0.91304348]\n",
      "[ 0.95833333  0.97959184  0.90196078  0.95833333  0.93877551  0.88888889\n",
      "  0.91304348  0.93877551  0.91304348  0.93877551]\n",
      "[ 0.93877551  0.97959184  0.96        0.93617021  0.93617021  0.93617021\n",
      "  0.96        0.81632653  0.88888889  0.91304348]\n",
      "[ 0.89361702  0.86956522  0.95833333  0.86363636  0.875       0.85714286\n",
      "  0.89361702  0.90196078  0.97959184  0.93333333]\n",
      "[ 0.89361702  0.86956522  0.95833333  0.86363636  0.875       0.85714286\n",
      "  0.89361702  0.90196078  0.97959184  0.93333333]\n",
      "[ 0.89361702  0.86956522  0.95833333  0.86363636  0.875       0.85714286\n",
      "  0.89361702  0.90196078  0.97959184  0.93333333]\n",
      "[ 0.95833333  0.97959184  0.90196078  0.93617021  0.93877551  0.88888889\n",
      "  0.91304348  0.93877551  0.91304348  0.93877551]\n",
      "[ 0.93877551  0.97959184  0.96        0.93617021  0.93617021  0.93617021\n",
      "  0.96        0.81632653  0.88888889  0.91304348]\n",
      "[ 0.93877551  0.97959184  0.96        0.93617021  0.93617021  0.93617021\n",
      "  0.96        0.81632653  0.88888889  0.91304348]\n",
      "[ 0.95833333  0.97959184  0.90196078  0.93617021  0.93877551  0.88888889\n",
      "  0.91304348  0.93877551  0.91304348  0.93877551]\n",
      "[ 0.95833333  0.97959184  0.90196078  0.93617021  0.93877551  0.88888889\n",
      "  0.91304348  0.93877551  0.91304348  0.93877551]\n",
      "[ 0.89361702  0.86956522  0.95833333  0.86363636  0.875       0.85714286\n",
      "  0.89361702  0.90196078  0.97959184  0.93333333]\n",
      "[ 0.93877551  0.97959184  0.96        0.93617021  0.93617021  0.93617021\n",
      "  0.96        0.81632653  0.88888889  0.91304348]\n",
      "[ 0.93877551  0.97959184  0.96        0.93617021  0.93617021  0.93617021\n",
      "  0.96        0.81632653  0.88888889  0.91304348]\n",
      "[ 0.89361702  0.86956522  0.95833333  0.86363636  0.875       0.85714286\n",
      "  0.89361702  0.90196078  0.97959184  0.93333333]\n",
      "[ 0.95833333  0.97959184  0.90196078  0.93617021  0.93877551  0.88888889\n",
      "  0.91304348  0.93877551  0.91304348  0.93877551]\n",
      "[ 0.93877551  0.97959184  0.96        0.93617021  0.93617021  0.93617021\n",
      "  0.96        0.81632653  0.88888889  0.91304348][ 0.95833333  0.97959184  0.90196078  0.93617021  0.93877551  0.88888889\n",
      "  0.91304348  0.93877551  0.91304348  0.93877551]\n",
      "\n",
      "[ 0.95833333  0.97959184  0.90196078  0.93617021  0.93877551  0.88888889\n",
      "  0.91304348  0.93877551  0.91304348  0.93877551]\n",
      "[ 0.89361702  0.86956522  0.95833333  0.86363636  0.875       0.85714286\n",
      "  0.89361702  0.90196078  0.97959184  0.93333333]\n",
      "[ 0.93877551  0.97959184  0.96        0.93617021  0.93617021  0.93617021\n",
      "  0.96        0.81632653  0.88888889  0.91304348]\n",
      "[ 0.89361702  0.86956522  0.95833333  0.86363636  0.875       0.85714286\n",
      "  0.89361702  0.90196078  0.97959184  0.93333333]\n",
      "[ 0.89361702  0.86956522  0.95833333  0.86363636  0.875       0.85714286\n",
      "  0.89361702  0.90196078  0.97959184  0.93333333]\n",
      "[ 0.95833333  0.97959184  0.90196078  0.93617021  0.93877551  0.88888889\n",
      "  0.91304348  0.93877551  0.91304348  0.93877551]\n",
      "[ 0.93877551  0.97959184  0.96        0.93617021  0.93617021  0.93617021\n",
      "  0.96        0.81632653  0.88888889  0.91304348]\n",
      "[ 0.95833333  0.97959184  0.90196078  0.93617021  0.93877551  0.88888889\n",
      "  0.91304348  0.93877551  0.91304348  0.93877551]\n",
      "[ 0.95833333  0.97959184  0.90196078  0.93617021  0.93877551  0.88888889\n",
      "  0.91304348  0.93877551  0.91304348  0.93877551]\n",
      "[ 0.95833333  0.97959184  0.90196078  0.93617021  0.93877551  0.88888889\n",
      "  0.91304348  0.93877551  0.91304348  0.93877551]\n",
      "[ 0.89361702  0.86956522  0.95833333  0.86363636  0.875       0.85714286\n",
      "  0.89361702  0.90196078  0.97959184  0.93333333]\n",
      "[ 0.95833333  0.97959184  0.90196078  0.93617021  0.93877551  0.88888889\n",
      "  0.91304348  0.93877551  0.91304348  0.93877551]\n",
      "[ 0.93877551  0.97959184  0.96        0.93617021  0.93617021  0.93617021\n",
      "  0.96        0.81632653  0.88888889  0.91304348]\n",
      "[ 0.93877551  0.97959184  0.96        0.93617021  0.93617021  0.93617021\n",
      "  0.96        0.81632653  0.88888889  0.91304348]\n",
      "[ 0.89361702  0.86956522  0.95833333  0.86363636  0.875       0.85714286\n",
      "  0.89361702  0.90196078  0.97959184  0.93333333]\n",
      "[ 0.93877551  0.97959184  0.96        0.93617021  0.93617021  0.93617021\n",
      "  0.96        0.81632653  0.88888889  0.91304348]\n",
      "[ 0.93877551  0.97959184  0.96        0.93617021  0.93617021  0.93617021\n",
      "  0.96        0.81632653  0.88888889  0.91304348]\n",
      "[ 0.89361702  0.86956522  0.95833333  0.86363636  0.875       0.85714286\n",
      "  0.89361702  0.90196078  0.97959184  0.93333333]\n",
      "[ 0.89361702  0.86956522  0.95833333  0.86363636  0.875       0.85714286\n",
      "  0.89361702  0.90196078  0.97959184  0.93333333]\n",
      "[ 0.89361702  0.86956522  0.95833333  0.86363636  0.875       0.85714286\n",
      "  0.89361702  0.90196078  0.97959184  0.93333333]\n",
      "[ 0.93877551  0.97959184  0.96        0.93617021  0.93617021  0.93617021\n",
      "  0.96        0.81632653  0.88888889  0.91304348]\n",
      "[ 0.95833333  0.97959184  0.90196078  0.93617021  0.93877551  0.88888889\n",
      "  0.91304348  0.93877551  0.91304348  0.93877551]\n",
      "[ 0.95833333  0.97959184  0.90196078  0.93617021  0.93877551  0.88888889\n",
      "  0.91304348  0.93877551  0.91304348  0.93877551]\n",
      "[ 0.95833333  0.97959184  0.90196078  0.93617021  0.93877551  0.88888889\n",
      "  0.91304348  0.93877551  0.91304348  0.93877551]\n",
      "[ 0.93877551  0.97959184  0.96        0.93617021  0.93617021  0.93617021\n",
      "  0.96        0.81632653  0.88888889  0.91304348]\n",
      "[ 0.93877551  0.97959184  0.96        0.93617021  0.93617021  0.93617021\n",
      "  0.96        0.81632653  0.88888889  0.91304348]\n",
      "[ 0.89361702  0.86956522  0.95833333  0.86363636  0.875       0.85714286\n",
      "  0.91304348  0.90196078  0.97959184  0.93333333]\n",
      "[ 0.89361702  0.86956522  0.95833333  0.86363636  0.875       0.85714286\n",
      "  0.89361702  0.90196078  0.97959184  0.93333333]\n",
      "[ 0.89361702  0.86956522  0.95833333  0.86363636  0.875       0.85714286\n",
      "  0.91304348  0.90196078  0.97959184  0.93333333]\n",
      "[ 0.95833333  0.97959184  0.90196078  0.93617021  0.93877551  0.88888889\n",
      "  0.91304348  0.93877551  0.91304348  0.93877551]\n",
      "[ 0.89361702  0.86956522  0.95833333  0.86363636  0.875       0.85714286\n",
      "  0.91304348  0.90196078  0.97959184  0.93333333][ 0.95833333  0.97959184  0.90196078  0.93617021  0.93877551  0.88888889\n",
      "  0.91304348  0.93877551  0.91304348  0.93877551]\n",
      "[ 0.95833333  0.97959184  0.90196078  0.93617021  0.93877551  0.88888889\n",
      "  0.91304348  0.93877551  0.91304348  0.93877551]\n",
      "\n",
      "[ 0.93877551  0.97959184  0.96        0.93617021  0.93617021  0.93617021\n",
      "  0.96        0.81632653  0.88888889  0.91304348]\n",
      "[ 0.93877551  0.97959184  0.96        0.93617021  0.93617021  0.93617021\n",
      "  0.96        0.81632653  0.88888889  0.91304348]\n",
      "[ 0.93877551  0.97959184  0.96        0.93617021  0.93617021  0.93617021\n",
      "  0.96        0.81632653  0.88888889  0.91304348]\n",
      "[ 0.89361702  0.86956522  0.95833333  0.86363636  0.875       0.85714286\n",
      "  0.91304348  0.90196078  0.97959184  0.93333333]\n",
      "[ 0.95833333  0.97959184  0.90196078  0.93617021  0.93877551  0.88888889\n",
      "  0.91304348  0.93877551  0.91304348  0.93877551]\n",
      "[ 0.93877551  0.97959184  0.96        0.93617021  0.93617021  0.93617021\n",
      "  0.96        0.81632653  0.88888889  0.91304348][ 0.89361702  0.86956522  0.95833333  0.86363636  0.875       0.85714286\n",
      "  0.91304348  0.90196078  0.97959184  0.93333333]\n",
      "\n",
      "[ 0.89361702  0.86956522  0.95833333  0.86363636  0.875       0.85714286\n",
      "  0.91304348  0.90196078  0.97959184  0.93333333]\n",
      "[ 0.95833333  0.97959184  0.90196078  0.93617021  0.93877551  0.88888889\n",
      "  0.91304348  0.93877551  0.91304348  0.93877551]\n",
      "[ 0.95833333  0.97959184  0.90196078  0.93617021  0.93877551  0.88888889\n",
      "  0.91304348  0.93877551  0.91304348  0.93877551]\n",
      "[ 0.93877551  0.97959184  0.96        0.93617021  0.93617021  0.93617021\n",
      "  0.96        0.81632653  0.88888889  0.91304348]\n",
      "[ 0.95833333  0.97959184  0.90196078  0.93617021  0.93877551  0.88888889\n",
      "  0.91304348  0.93877551  0.91304348  0.93877551]\n",
      "[ 0.93877551  0.97959184  0.96        0.93617021  0.93617021  0.93617021\n",
      "  0.96        0.81632653  0.88888889  0.91304348][ 0.95833333  0.97959184  0.90196078  0.93617021  0.93877551  0.88888889\n",
      "  0.91304348  0.93877551  0.91304348  0.93877551]\n",
      "\n",
      "[ 0.89361702  0.86956522  0.95833333  0.86363636  0.875       0.85714286\n",
      "  0.91304348  0.90196078  0.97959184  0.93333333]\n",
      "[ 0.89361702  0.86956522  0.95833333  0.86363636  0.875       0.85714286\n",
      "  0.91304348  0.90196078  0.97959184  0.93333333]\n",
      "[ 0.89361702  0.86956522  0.95833333  0.86363636  0.875       0.85714286\n",
      "  0.91304348  0.90196078  0.97959184  0.93333333][ 0.93877551  0.97959184  0.96        0.93617021  0.93617021  0.93617021\n",
      "  0.96        0.81632653  0.88888889  0.91304348]\n",
      "\n",
      "[ 0.89361702  0.86956522  0.95833333  0.86363636  0.875       0.85714286\n",
      "  0.91304348  0.90196078  0.97959184  0.93333333]\n",
      "[ 0.95833333  0.97959184  0.90196078  0.93617021  0.93877551  0.88888889\n",
      "  0.91304348  0.93877551  0.91304348  0.93877551]\n",
      "[ 0.93877551  0.97959184  0.96        0.93617021  0.93617021  0.93617021\n",
      "  0.96        0.81632653  0.88888889  0.91304348][ 0.93877551  0.97959184  0.96        0.93617021  0.93617021  0.93617021\n",
      "  0.96        0.81632653  0.88888889  0.91304348]\n",
      "\n",
      "[ 0.93877551  0.97959184  0.96        0.93617021  0.93617021  0.93617021\n",
      "  0.96        0.81632653  0.88888889  0.91304348]\n",
      "[ 0.95833333  0.97959184  0.90196078  0.93617021  0.93877551  0.88888889\n",
      "  0.91304348  0.93877551  0.91304348  0.93877551]\n",
      "[ 0.89361702  0.86956522  0.95833333  0.86363636  0.875       0.85714286\n",
      "  0.91304348  0.90196078  0.97959184  0.93333333]\n",
      "[ 0.95833333  0.97959184  0.92        0.93617021  0.93877551  0.88888889\n",
      "  0.91304348  0.93877551  0.91304348  0.93877551]\n",
      "[ 0.89361702  0.86956522  0.95833333  0.86363636  0.875       0.85714286\n",
      "  0.91304348  0.90196078  0.97959184  0.93333333]\n",
      "[ 0.93877551  0.97959184  0.96        0.93617021  0.93617021  0.93617021\n",
      "  0.96        0.81632653  0.88888889  0.91304348]\n",
      "[ 0.95833333  0.97959184  0.92        0.93617021  0.93877551  0.88888889\n",
      "  0.91304348  0.93877551  0.91304348  0.93877551]\n",
      "[ 0.89361702  0.86956522  0.95833333  0.86363636  0.875       0.85714286\n",
      "  0.91304348  0.90196078  0.97959184  0.93333333]\n",
      "[ 0.89361702  0.86956522  0.95833333  0.86363636  0.875       0.85714286\n",
      "  0.91304348  0.90196078  0.97959184  0.93333333]\n",
      "[ 0.93877551  0.97959184  0.96        0.93617021  0.93617021  0.93617021\n",
      "  0.96        0.81632653  0.88888889  0.91304348][ 0.95833333  0.97959184  0.92        0.93617021  0.93877551  0.88888889\n",
      "  0.91304348  0.93877551  0.91304348  0.93877551]\n",
      "\n",
      "[ 0.95833333  0.97959184  0.92        0.93617021  0.93877551  0.88888889\n",
      "  0.91304348  0.93877551  0.91304348  0.93877551]\n",
      "[ 0.93877551  0.97959184  0.96        0.93617021  0.93617021  0.93617021\n",
      "  0.96        0.81632653  0.88888889  0.91304348]\n",
      "[ 0.93877551  0.97959184  0.96        0.93617021  0.93617021  0.93617021\n",
      "  0.96        0.81632653  0.88888889  0.91304348]\n",
      "[ 0.89361702  0.86956522  0.95833333  0.86363636  0.875       0.85714286\n",
      "  0.91304348  0.90196078  0.97959184  0.93333333]\n",
      "[ 0.95833333  0.97959184  0.92        0.93617021  0.93877551  0.88888889\n",
      "  0.91304348  0.93877551  0.91304348  0.93877551]\n",
      "[ 0.89361702  0.86956522  0.95833333  0.86363636  0.875       0.85714286\n",
      "  0.91304348  0.90196078  0.97959184  0.93333333]\n",
      "[ 0.93877551  0.97959184  0.96        0.93617021  0.93617021  0.93617021\n",
      "  0.96        0.81632653  0.88888889  0.91304348]\n",
      "[ 0.95833333  0.97959184  0.92        0.93617021  0.93877551  0.88888889\n",
      "  0.91304348  0.93877551  0.91304348  0.93877551]\n",
      "[ 0.89361702  0.86956522  0.95833333  0.86363636  0.875       0.85714286\n",
      "  0.91304348  0.90196078  0.97959184  0.93333333]\n",
      "[ 0.93877551  0.97959184  0.96        0.93617021  0.93617021  0.93617021\n",
      "  0.96        0.81632653  0.88888889  0.91304348]\n",
      "[ 0.95833333  0.97959184  0.92        0.93617021  0.93877551  0.88888889\n",
      "  0.91304348  0.93877551  0.91304348  0.93877551]\n",
      "[ 0.93877551  0.97959184  0.96        0.93617021  0.93617021  0.93617021\n",
      "  0.96        0.81632653  0.88888889  0.91304348]\n",
      "[ 0.95833333  0.97959184  0.92        0.93617021  0.93877551  0.88888889\n",
      "  0.91304348  0.93877551  0.91304348  0.93877551]\n",
      "[ 0.89361702  0.86956522  0.95833333  0.86363636  0.875       0.85714286\n",
      "  0.91304348  0.90196078  0.97959184  0.93333333]\n",
      "[ 0.93877551  0.97959184  0.96        0.93617021  0.93617021  0.93617021\n",
      "  0.96        0.81632653  0.88888889  0.91304348]\n",
      "[ 0.89361702  0.86956522  0.95833333  0.86363636  0.875       0.85714286\n",
      "  0.91304348  0.90196078  0.97959184  0.93333333]\n",
      "[ 0.89361702  0.86956522  0.95833333  0.86363636  0.875       0.85714286\n",
      "  0.91304348  0.90196078  0.97959184  0.93333333]\n",
      "[ 0.95833333  0.97959184  0.92        0.93617021  0.93877551  0.88888889\n",
      "  0.91304348  0.93877551  0.91304348  0.93877551]\n",
      "[ 0.89361702  0.86956522  0.95833333  0.86363636  0.875       0.85714286\n",
      "  0.91304348  0.90196078  0.97959184  0.93333333]\n",
      "[ 0.93877551  0.97959184  0.96        0.93617021  0.93617021  0.93617021\n",
      "  0.96        0.81632653  0.88888889  0.91304348][ 0.89361702  0.86956522  0.95833333  0.86363636  0.875       0.85714286\n",
      "  0.91304348  0.90196078  0.97959184  0.93333333]\n",
      "\n",
      "[ 0.95833333  0.97959184  0.92        0.93617021  0.93877551  0.88888889\n",
      "  0.91304348  0.93877551  0.91304348  0.93877551]\n",
      "[ 0.95833333  0.97959184  0.92        0.93617021  0.93877551  0.88888889\n",
      "  0.91304348  0.93877551  0.91304348  0.93877551]\n",
      "[ 0.93877551  0.97959184  0.96        0.93617021  0.93617021  0.93617021\n",
      "  0.96        0.81632653  0.88888889  0.91304348]\n",
      "[ 0.89361702  0.86956522  0.95833333  0.86363636  0.875       0.85714286\n",
      "  0.91304348  0.90196078  0.97959184  0.93333333]\n",
      "[ 0.95833333  0.97959184  0.92        0.93617021  0.93877551  0.88888889\n",
      "  0.91304348  0.93877551  0.91304348  0.93877551]\n",
      "[ 0.95833333  0.97959184  0.92        0.93617021  0.93877551  0.88888889\n",
      "  0.91304348  0.93877551  0.91304348  0.93877551]\n",
      "[ 0.93877551  0.97959184  0.96        0.93617021  0.93617021  0.93617021\n",
      "  0.96        0.81632653  0.88888889  0.91304348]\n",
      "[ 0.93877551  0.97959184  0.96        0.93617021  0.93617021  0.93617021\n",
      "  0.96        0.81632653  0.88888889  0.91304348]\n",
      "[ 0.89361702  0.86956522  0.95833333  0.86363636  0.875       0.85714286\n",
      "  0.91304348  0.90196078  0.97959184  0.93333333]\n",
      "[ 0.93877551  0.97959184  0.96        0.93617021  0.93617021  0.93617021\n",
      "  0.96        0.81632653  0.88888889  0.91304348]\n",
      "[ 0.95833333  0.97959184  0.92        0.93617021  0.93877551  0.88888889\n",
      "  0.91304348  0.93877551  0.91304348  0.93877551]\n",
      "[ 0.95833333  0.97959184  0.92        0.93617021  0.93877551  0.88888889\n",
      "  0.91304348  0.93877551  0.91304348  0.93877551]\n",
      "[ 0.89361702  0.86956522  0.95833333  0.86363636  0.875       0.85714286\n",
      "  0.91304348  0.90196078  0.97959184  0.93333333]\n",
      "[ 0.95833333  0.97959184  0.92        0.93617021  0.93877551  0.88888889\n",
      "  0.91304348  0.93877551  0.91304348  0.93877551][ 0.93877551  0.97959184  0.96        0.93617021  0.93617021  0.93617021\n",
      "  0.96        0.81632653  0.88888889  0.91304348]\n",
      "\n",
      "[ 0.89361702  0.86956522  0.95833333  0.86363636  0.875       0.85714286\n",
      "  0.91304348  0.90196078  0.97959184  0.93333333][ 0.89361702  0.86956522  0.95833333  0.86363636  0.875       0.85714286\n",
      "  0.91304348  0.90196078  0.97959184  0.93333333]\n",
      "\n",
      "[ 0.93877551  0.97959184  0.96        0.93617021  0.93617021  0.93617021\n",
      "  0.96        0.81632653  0.88888889  0.91304348]\n",
      "[ 0.95833333  0.97959184  0.92        0.93617021  0.93877551  0.88888889\n",
      "  0.91304348  0.93877551  0.91304348  0.93877551][ 0.89361702  0.86956522  0.95833333  0.86363636  0.875       0.85714286\n",
      "  0.91304348  0.90196078  0.97959184  0.93333333]\n",
      "\n",
      "[ 0.93877551  0.97959184  0.96        0.93617021  0.93617021  0.93617021\n",
      "  0.96        0.81632653  0.88888889  0.91304348]\n",
      "[ 0.93877551  0.97959184  0.96        0.93617021  0.93617021  0.93617021\n",
      "  0.96        0.81632653  0.88888889  0.91304348]\n",
      "[ 0.89361702  0.86956522  0.95833333  0.86363636  0.875       0.85714286\n",
      "  0.91304348  0.90196078  0.97959184  0.93333333]\n",
      "[ 0.95833333  0.97959184  0.92        0.93617021  0.93877551  0.88888889\n",
      "  0.91304348  0.93877551  0.91304348  0.93877551]\n",
      "[ 0.93877551  0.97959184  0.96        0.93617021  0.93617021  0.93617021\n",
      "  0.93877551  0.81632653  0.88888889  0.91304348]\n",
      "[ 0.95833333  0.97959184  0.92        0.93617021  0.93877551  0.88888889\n",
      "  0.91304348  0.93877551  0.91304348  0.93877551]\n",
      "[ 0.93877551  0.97959184  0.96        0.93617021  0.93617021  0.93617021\n",
      "  0.93877551  0.81632653  0.88888889  0.91304348]\n",
      "[ 0.95833333  0.97959184  0.92        0.93617021  0.93877551  0.88888889\n",
      "  0.91304348  0.93877551  0.91304348  0.93877551]\n",
      "[ 0.89361702  0.86956522  0.95833333  0.86363636  0.875       0.85714286\n",
      "  0.91304348  0.90196078  0.97959184  0.93333333]\n",
      "[ 0.95833333  0.97959184  0.92        0.93617021  0.93877551  0.88888889\n",
      "  0.91304348  0.93877551  0.91304348  0.93877551]\n",
      "[ 0.89361702  0.86956522  0.95833333  0.86363636  0.875       0.85714286\n",
      "  0.91304348  0.90196078  0.97959184  0.93333333]\n",
      "[ 0.89361702  0.86956522  0.95833333  0.86363636  0.875       0.85714286\n",
      "  0.91304348  0.90196078  0.97959184  0.93333333][ 0.93877551  0.97959184  0.96        0.93617021  0.93617021  0.93617021\n",
      "  0.93877551  0.81632653  0.88888889  0.91304348]\n",
      "\n",
      "[ 0.89361702  0.86956522  0.95833333  0.86363636  0.875       0.85714286\n",
      "  0.91304348  0.90196078  0.97959184  0.93333333]\n",
      "[ 0.93877551  0.97959184  0.96        0.93617021  0.93617021  0.93617021\n",
      "  0.93877551  0.81632653  0.88888889  0.91304348]\n",
      "[ 0.93877551  0.97959184  0.96        0.93617021  0.93617021  0.93617021\n",
      "  0.93877551  0.81632653  0.88888889  0.91304348]\n",
      "[ 0.95833333  0.97959184  0.92        0.93617021  0.93877551  0.88888889\n",
      "  0.91304348  0.93877551  0.91304348  0.93877551]\n",
      "[ 0.89361702  0.86956522  0.95833333  0.86363636  0.875       0.85714286\n",
      "  0.91304348  0.90196078  0.97959184  0.93333333]\n",
      "[ 0.95833333  0.97959184  0.92        0.93617021  0.93877551  0.88888889\n",
      "  0.91304348  0.93877551  0.91304348  0.93877551]\n",
      "[ 0.93877551  0.97959184  0.96        0.93617021  0.93617021  0.93617021\n",
      "  0.93877551  0.81632653  0.88888889  0.91304348]\n",
      "[ 0.95833333  0.97959184  0.92        0.93617021  0.93877551  0.88888889\n",
      "  0.91304348  0.93877551  0.91304348  0.93877551]\n",
      "[ 0.89361702  0.86956522  0.95833333  0.86363636  0.875       0.85714286\n",
      "  0.91304348  0.90196078  0.97959184  0.93333333]\n",
      "[ 0.93877551  0.97959184  0.96        0.93617021  0.93617021  0.93617021\n",
      "  0.93877551  0.81632653  0.88888889  0.91304348]\n",
      "[ 0.95833333  0.97959184  0.92        0.93617021  0.93877551  0.88888889\n",
      "  0.91304348  0.93877551  0.91304348  0.93877551]\n",
      "[ 0.95833333  0.97959184  0.92        0.93617021  0.93877551  0.88888889\n",
      "  0.91304348  0.93877551  0.91304348  0.93877551]\n",
      "[ 0.93877551  0.97959184  0.96        0.93617021  0.93617021  0.93617021\n",
      "  0.93877551  0.81632653  0.88888889  0.91304348]\n",
      "[ 0.89361702  0.86956522  0.95833333  0.86363636  0.875       0.85714286\n",
      "  0.91304348  0.90196078  0.97959184  0.93333333]\n",
      "[ 0.89361702  0.86956522  0.95833333  0.86363636  0.875       0.85714286\n",
      "  0.91304348  0.90196078  0.97959184  0.93333333]\n"
     ]
    },
    {
     "data": {
      "text/plain": [
       "GridSearchCV(cv=None, error_score='raise',\n",
       "       estimator=LogisticRegression(C=1.0, class_weight='balanced', dual=False,\n",
       "          fit_intercept=True, intercept_scaling=1, max_iter=100,\n",
       "          multi_class='ovr', n_jobs=-1, penalty='l2', random_state=None,\n",
       "          solver='liblinear', tol=0.0001, verbose=0, warm_start=False),\n",
       "       fit_params={}, iid=True, n_jobs=-1,\n",
       "       param_grid={'C': array([  0.1,   0.2, ...,   9.9,  10. ])},\n",
       "       pre_dispatch='2*n_jobs', refit=True,\n",
       "       scoring=<function score_func at 0x7fe57c3c0950>, verbose=0)"
      ]
     },
     "execution_count": 141,
     "metadata": {},
     "output_type": "execute_result"
    }
   ],
   "source": [
    "Cs = np.linspace(0.1, 10, 100)\n",
    "logistic = LogisticRegression(n_jobs=-1, class_weight='balanced')\n",
    "estimator_2 = GridSearchCV(logistic, dict(C=Cs), n_jobs=-1, scoring=score_func)\n",
    "estimator_2.fit(features, labels)"
   ]
  },
  {
   "cell_type": "code",
   "execution_count": 142,
   "metadata": {
    "collapsed": false
   },
   "outputs": [
    {
     "name": "stdout",
     "output_type": "stream",
     "text": [
      "{'C': 7.5} 0.9211919622426195\n"
     ]
    }
   ],
   "source": [
    "b_est2 = estimator_2.best_estimator_\n",
    "b_params2 = estimator_2.best_params_\n",
    "b_score2 = estimator_2.best_score_\n",
    "print(b_params2, b_score2)"
   ]
  },
  {
   "cell_type": "code",
   "execution_count": 143,
   "metadata": {
    "collapsed": false
   },
   "outputs": [
    {
     "name": "stdout",
     "output_type": "stream",
     "text": [
      "[ 0.97333333  0.92198582  0.95238095  0.96551724  0.93055556  0.92857143\n",
      "  0.95238095  0.95833333  0.95945946  0.95172414]\n"
     ]
    },
    {
     "data": {
      "text/plain": [
       "0.94942422099281953"
      ]
     },
     "execution_count": 143,
     "metadata": {},
     "output_type": "execute_result"
    }
   ],
   "source": [
    "score_func(b_est2, features, labels)"
   ]
  },
  {
   "cell_type": "code",
   "execution_count": 146,
   "metadata": {
    "collapsed": false
   },
   "outputs": [
    {
     "name": "stdout",
     "output_type": "stream",
     "text": [
      "[ 0.95833333  0.91304348  0.9         0.93617021  0.92307692  0.91304348\n",
      "  0.92957746  0.91970803  0.92198582  0.95035461]\n"
     ]
    },
    {
     "data": {
      "text/plain": [
       "0.92652933452156816"
      ]
     },
     "execution_count": 146,
     "metadata": {},
     "output_type": "execute_result"
    }
   ],
   "source": [
    "score_func(LogisticRegression(), features_mixed_case, labels)"
   ]
  },
  {
   "cell_type": "markdown",
   "metadata": {
    "collapsed": true
   },
   "source": [
    "<h3><p>Применение других классификаторов вместо логистической регрессии повысить скор не помогло</p>\n",
    "<p>В среднем, линейные классификаторы дали скор ~90%</p><h3>"
   ]
  },
  {
   "cell_type": "markdown",
   "metadata": {},
   "source": [
    "<h2> 11) Выводы:</h2>\n",
    "<h4><p> 1. Tfidf нужна большая выборка для обучения, на малой мусорные слова могут приобретать большой вес. </p>\n",
    "<p> 2. Соответственно TfidfVectorizer не всегда лучше, чем CountVectorizer </p>\n",
    "<p> 3. Иногда можно уменьшать размерность используя max_features у vectorizer'a вместо PCA, SVD, особо не теряя в качестве, но значительно выигрывая в скорости </p>\n",
    "<p> 3. Байесовским методам нужна значительно бОльшая выборка, чем в этом случае. </p>\n",
    "<p> 4. При малых размерах выборки опираться на коллокации неэффективныо</p>\n",
    "<p> 5. Используя одинаковое решение можно получить разные результаты на кросс-валидации </p>\n",
    "</h4>"
   ]
  },
  {
   "cell_type": "code",
   "execution_count": null,
   "metadata": {
    "collapsed": true
   },
   "outputs": [],
   "source": []
  }
 ],
 "metadata": {
  "anaconda-cloud": {},
  "kernelspec": {
   "display_name": "Python 3",
   "language": "python",
   "name": "python3"
  },
  "language_info": {
   "codemirror_mode": {
    "name": "ipython",
    "version": 3
   },
   "file_extension": ".py",
   "mimetype": "text/x-python",
   "name": "python",
   "nbconvert_exporter": "python",
   "pygments_lexer": "ipython3",
   "version": "3.5.2"
  }
 },
 "nbformat": 4,
 "nbformat_minor": 0
}
